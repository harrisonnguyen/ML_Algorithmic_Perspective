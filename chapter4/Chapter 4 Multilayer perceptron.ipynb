{
 "cells": [
  {
   "cell_type": "code",
   "execution_count": 1,
   "metadata": {
    "collapsed": false
   },
   "outputs": [],
   "source": [
    "import numpy as np\n",
    "import mlp"
   ]
  },
  {
   "cell_type": "code",
   "execution_count": 2,
   "metadata": {
    "collapsed": true
   },
   "outputs": [],
   "source": [
    "anddata = np.array([[0,0,0],[0,1,0],[1,0,0],[1,1,1]])\n",
    "xordata = np.array([[0,0,0],[0,1,1],[1,0,1],[1,1,0]])"
   ]
  },
  {
   "cell_type": "code",
   "execution_count": 3,
   "metadata": {
    "collapsed": false
   },
   "outputs": [
    {
     "name": "stdout",
     "output_type": "stream",
     "text": [
      "Iteration: 0 Error: 0.987363\n",
      "Iteration: 1000 Error: 0.053738\n",
      "Confusion matrix is:\n",
      "[[ 3.  0.]\n",
      " [ 0.  1.]]\n",
      "Percentage Correct:  100.0\n"
     ]
    }
   ],
   "source": [
    "p = mlp.mlp(anddata[:,0:2],anddata[:,2:3],2)\n",
    "p.mlptrain(anddata[:,0:2],anddata[:,2:3],0.25,1001)\n",
    "p.confmat(anddata[:,0:2],anddata[:,2:3])"
   ]
  },
  {
   "cell_type": "code",
   "execution_count": 4,
   "metadata": {
    "collapsed": false
   },
   "outputs": [
    {
     "name": "stdout",
     "output_type": "stream",
     "text": [
      "Iteration: 0 Error: 1.000050\n",
      "Iteration: 1000 Error: 1.000000\n",
      "Iteration: 2000 Error: 1.000000\n",
      "Iteration: 3000 Error: 1.000000\n",
      "Iteration: 4000 Error: 1.000000\n",
      "Iteration: 5000 Error: 1.000000\n",
      "Iteration: 6000 Error: 1.000000\n",
      "Iteration: 7000 Error: 1.000000\n",
      "Iteration: 8000 Error: 1.000000\n",
      "Iteration: 9000 Error: 1.000000\n",
      "Iteration: 10000 Error: 1.000000\n",
      "Iteration: 11000 Error: 1.000000\n",
      "Iteration: 12000 Error: 1.000000\n",
      "Iteration: 13000 Error: 1.000000\n",
      "Iteration: 14000 Error: 1.000000\n",
      "Iteration: 15000 Error: 1.000000\n",
      "Iteration: 16000 Error: 1.000000\n",
      "Iteration: 17000 Error: 1.000000\n",
      "Iteration: 18000 Error: 1.000000\n",
      "Iteration: 19000 Error: 1.000000\n",
      "Confusion matrix is:\n",
      "[[ 1.  1.]\n",
      " [ 1.  1.]]\n",
      "Percentage Correct:  50.0\n"
     ]
    }
   ],
   "source": [
    "q = mlp.mlp(xordata[:,0:2],xordata[:,2:3],2)\n",
    "q.mlptrain(xordata[:,0:2],xordata[:,2:3],0.25,20000)\n",
    "q.confmat(xordata[:,0:2],xordata[:,2:3])"
   ]
  },
  {
   "cell_type": "code",
   "execution_count": null,
   "metadata": {
    "collapsed": true
   },
   "outputs": [],
   "source": []
  },
  {
   "cell_type": "code",
   "execution_count": null,
   "metadata": {
    "collapsed": true
   },
   "outputs": [],
   "source": []
  }
 ],
 "metadata": {
  "kernelspec": {
   "display_name": "Python 2",
   "language": "python",
   "name": "python2"
  },
  "language_info": {
   "codemirror_mode": {
    "name": "ipython",
    "version": 2
   },
   "file_extension": ".py",
   "mimetype": "text/x-python",
   "name": "python",
   "nbconvert_exporter": "python",
   "pygments_lexer": "ipython2",
   "version": "2.7.11"
  }
 },
 "nbformat": 4,
 "nbformat_minor": 0
}
