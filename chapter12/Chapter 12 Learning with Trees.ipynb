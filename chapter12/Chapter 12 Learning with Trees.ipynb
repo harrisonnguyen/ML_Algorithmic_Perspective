{
 "cells": [
  {
   "cell_type": "code",
   "execution_count": 1,
   "metadata": {
    "collapsed": true
   },
   "outputs": [],
   "source": [
    "import numpy as np\n",
    "import sframe as sf"
   ]
  },
  {
   "cell_type": "code",
   "execution_count": 2,
   "metadata": {
    "collapsed": false,
    "scrolled": true
   },
   "outputs": [],
   "source": [
    "import decision_tree"
   ]
  },
  {
   "cell_type": "markdown",
   "metadata": {},
   "source": [
    "# Do some preprocessing"
   ]
  },
  {
   "cell_type": "code",
   "execution_count": 3,
   "metadata": {
    "collapsed": false,
    "scrolled": true
   },
   "outputs": [
    {
     "name": "stderr",
     "output_type": "stream",
     "text": [
      "2016-05-24 16:59:07,226 [INFO] sframe.cython.cy_server, 172: SFrame v1.9 started. Logging C:\\Users\\HARRIS~1.NGU\\AppData\\Local\\Temp\\sframe_server_1464073146.log.0\n"
     ]
    },
    {
     "name": "stdout",
     "output_type": "stream",
     "text": [
      "------------------------------------------------------\n",
      "Inferred types from first 100 line(s) of file as \n",
      "column_type_hints=[str,str,str,str]\n",
      "If parsing fails due to incorrect types, you can correct\n",
      "the inferred type list above and pass it to read_csv in\n",
      "the column_type_hints argument\n",
      "------------------------------------------------------\n"
     ]
    },
    {
     "data": {
      "text/html": [
       "<pre>Finished parsing file C:\\Users\\Harrison.Nguyen\\notebook\\chapter12\\attractive_data.csv</pre>"
      ],
      "text/plain": [
       "Finished parsing file C:\\Users\\Harrison.Nguyen\\notebook\\chapter12\\attractive_data.csv"
      ]
     },
     "metadata": {},
     "output_type": "display_data"
    },
    {
     "data": {
      "text/html": [
       "<pre>Parsing completed. Parsed 8 lines in 0 secs.</pre>"
      ],
      "text/plain": [
       "Parsing completed. Parsed 8 lines in 0 secs."
      ]
     },
     "metadata": {},
     "output_type": "display_data"
    },
    {
     "data": {
      "text/html": [
       "<div style=\"max-height:1000px;max-width:1500px;overflow:auto;\"><table frame=\"box\" rules=\"cols\">\n",
       "    <tr>\n",
       "        <th style=\"padding-left: 1em; padding-right: 1em; text-align: center\">Height</th>\n",
       "        <th style=\"padding-left: 1em; padding-right: 1em; text-align: center\">Hair</th>\n",
       "        <th style=\"padding-left: 1em; padding-right: 1em; text-align: center\">Eyes</th>\n",
       "        <th style=\"padding-left: 1em; padding-right: 1em; text-align: center\">Attractive</th>\n",
       "    </tr>\n",
       "    <tr>\n",
       "        <td style=\"padding-left: 1em; padding-right: 1em; text-align: center; vertical-align: top\">Small</td>\n",
       "        <td style=\"padding-left: 1em; padding-right: 1em; text-align: center; vertical-align: top\">Blonde</td>\n",
       "        <td style=\"padding-left: 1em; padding-right: 1em; text-align: center; vertical-align: top\">Brown</td>\n",
       "        <td style=\"padding-left: 1em; padding-right: 1em; text-align: center; vertical-align: top\">No</td>\n",
       "    </tr>\n",
       "    <tr>\n",
       "        <td style=\"padding-left: 1em; padding-right: 1em; text-align: center; vertical-align: top\">Tall</td>\n",
       "        <td style=\"padding-left: 1em; padding-right: 1em; text-align: center; vertical-align: top\">Dark</td>\n",
       "        <td style=\"padding-left: 1em; padding-right: 1em; text-align: center; vertical-align: top\">Brown</td>\n",
       "        <td style=\"padding-left: 1em; padding-right: 1em; text-align: center; vertical-align: top\">No</td>\n",
       "    </tr>\n",
       "    <tr>\n",
       "        <td style=\"padding-left: 1em; padding-right: 1em; text-align: center; vertical-align: top\">Tall</td>\n",
       "        <td style=\"padding-left: 1em; padding-right: 1em; text-align: center; vertical-align: top\">Blonde</td>\n",
       "        <td style=\"padding-left: 1em; padding-right: 1em; text-align: center; vertical-align: top\">Blue</td>\n",
       "        <td style=\"padding-left: 1em; padding-right: 1em; text-align: center; vertical-align: top\">Yes</td>\n",
       "    </tr>\n",
       "    <tr>\n",
       "        <td style=\"padding-left: 1em; padding-right: 1em; text-align: center; vertical-align: top\">Tall</td>\n",
       "        <td style=\"padding-left: 1em; padding-right: 1em; text-align: center; vertical-align: top\">Dark</td>\n",
       "        <td style=\"padding-left: 1em; padding-right: 1em; text-align: center; vertical-align: top\">Blue</td>\n",
       "        <td style=\"padding-left: 1em; padding-right: 1em; text-align: center; vertical-align: top\">No</td>\n",
       "    </tr>\n",
       "    <tr>\n",
       "        <td style=\"padding-left: 1em; padding-right: 1em; text-align: center; vertical-align: top\">Small</td>\n",
       "        <td style=\"padding-left: 1em; padding-right: 1em; text-align: center; vertical-align: top\">Dark</td>\n",
       "        <td style=\"padding-left: 1em; padding-right: 1em; text-align: center; vertical-align: top\">Blue</td>\n",
       "        <td style=\"padding-left: 1em; padding-right: 1em; text-align: center; vertical-align: top\">No</td>\n",
       "    </tr>\n",
       "    <tr>\n",
       "        <td style=\"padding-left: 1em; padding-right: 1em; text-align: center; vertical-align: top\">Tall</td>\n",
       "        <td style=\"padding-left: 1em; padding-right: 1em; text-align: center; vertical-align: top\">Red</td>\n",
       "        <td style=\"padding-left: 1em; padding-right: 1em; text-align: center; vertical-align: top\">Blue</td>\n",
       "        <td style=\"padding-left: 1em; padding-right: 1em; text-align: center; vertical-align: top\">Yes</td>\n",
       "    </tr>\n",
       "    <tr>\n",
       "        <td style=\"padding-left: 1em; padding-right: 1em; text-align: center; vertical-align: top\">Tall</td>\n",
       "        <td style=\"padding-left: 1em; padding-right: 1em; text-align: center; vertical-align: top\">Blonde</td>\n",
       "        <td style=\"padding-left: 1em; padding-right: 1em; text-align: center; vertical-align: top\">Brown</td>\n",
       "        <td style=\"padding-left: 1em; padding-right: 1em; text-align: center; vertical-align: top\">No</td>\n",
       "    </tr>\n",
       "    <tr>\n",
       "        <td style=\"padding-left: 1em; padding-right: 1em; text-align: center; vertical-align: top\">Small</td>\n",
       "        <td style=\"padding-left: 1em; padding-right: 1em; text-align: center; vertical-align: top\">Blonde</td>\n",
       "        <td style=\"padding-left: 1em; padding-right: 1em; text-align: center; vertical-align: top\">Blue</td>\n",
       "        <td style=\"padding-left: 1em; padding-right: 1em; text-align: center; vertical-align: top\">Yes</td>\n",
       "    </tr>\n",
       "</table>\n",
       "[8 rows x 4 columns]<br/>\n",
       "</div>"
      ],
      "text/plain": [
       "Columns:\n",
       "\tHeight\tstr\n",
       "\tHair\tstr\n",
       "\tEyes\tstr\n",
       "\tAttractive\tstr\n",
       "\n",
       "Rows: 8\n",
       "\n",
       "Data:\n",
       "+--------+--------+-------+------------+\n",
       "| Height |  Hair  |  Eyes | Attractive |\n",
       "+--------+--------+-------+------------+\n",
       "| Small  | Blonde | Brown |     No     |\n",
       "|  Tall  |  Dark  | Brown |     No     |\n",
       "|  Tall  | Blonde |  Blue |    Yes     |\n",
       "|  Tall  |  Dark  |  Blue |     No     |\n",
       "| Small  |  Dark  |  Blue |     No     |\n",
       "|  Tall  |  Red   |  Blue |    Yes     |\n",
       "|  Tall  | Blonde | Brown |     No     |\n",
       "| Small  | Blonde |  Blue |    Yes     |\n",
       "+--------+--------+-------+------------+\n",
       "[8 rows x 4 columns]"
      ]
     },
     "execution_count": 3,
     "metadata": {},
     "output_type": "execute_result"
    }
   ],
   "source": [
    "data = sf.SFrame.read_csv('attractive_data.csv')\n",
    "data"
   ]
  },
  {
   "cell_type": "code",
   "execution_count": 4,
   "metadata": {
    "collapsed": true
   },
   "outputs": [],
   "source": [
    "classes = data['Attractive']\n",
    "data = data.remove_column('Attractive')"
   ]
  },
  {
   "cell_type": "code",
   "execution_count": 5,
   "metadata": {
    "collapsed": false,
    "scrolled": true
   },
   "outputs": [],
   "source": [
    "hair_values = data['Hair'].unique()\n",
    "for value in hair_values:\n",
    "    data.add_column(data['Hair'] == value, 'has'+value+'Hair')\n",
    "data = data.remove_column('Hair')\n",
    "data = data.remove_column('hasRedHair')"
   ]
  },
  {
   "cell_type": "code",
   "execution_count": 6,
   "metadata": {
    "collapsed": false
   },
   "outputs": [
    {
     "data": {
      "text/html": [
       "<div style=\"max-height:1000px;max-width:1500px;overflow:auto;\"><table frame=\"box\" rules=\"cols\">\n",
       "    <tr>\n",
       "        <th style=\"padding-left: 1em; padding-right: 1em; text-align: center\">hasDarkHair</th>\n",
       "        <th style=\"padding-left: 1em; padding-right: 1em; text-align: center\">hasBlondeHair</th>\n",
       "        <th style=\"padding-left: 1em; padding-right: 1em; text-align: center\">isTall</th>\n",
       "        <th style=\"padding-left: 1em; padding-right: 1em; text-align: center\">hasBrownEyes</th>\n",
       "    </tr>\n",
       "    <tr>\n",
       "        <td style=\"padding-left: 1em; padding-right: 1em; text-align: center; vertical-align: top\">0</td>\n",
       "        <td style=\"padding-left: 1em; padding-right: 1em; text-align: center; vertical-align: top\">1</td>\n",
       "        <td style=\"padding-left: 1em; padding-right: 1em; text-align: center; vertical-align: top\">0</td>\n",
       "        <td style=\"padding-left: 1em; padding-right: 1em; text-align: center; vertical-align: top\">1</td>\n",
       "    </tr>\n",
       "    <tr>\n",
       "        <td style=\"padding-left: 1em; padding-right: 1em; text-align: center; vertical-align: top\">1</td>\n",
       "        <td style=\"padding-left: 1em; padding-right: 1em; text-align: center; vertical-align: top\">0</td>\n",
       "        <td style=\"padding-left: 1em; padding-right: 1em; text-align: center; vertical-align: top\">1</td>\n",
       "        <td style=\"padding-left: 1em; padding-right: 1em; text-align: center; vertical-align: top\">1</td>\n",
       "    </tr>\n",
       "    <tr>\n",
       "        <td style=\"padding-left: 1em; padding-right: 1em; text-align: center; vertical-align: top\">0</td>\n",
       "        <td style=\"padding-left: 1em; padding-right: 1em; text-align: center; vertical-align: top\">1</td>\n",
       "        <td style=\"padding-left: 1em; padding-right: 1em; text-align: center; vertical-align: top\">1</td>\n",
       "        <td style=\"padding-left: 1em; padding-right: 1em; text-align: center; vertical-align: top\">0</td>\n",
       "    </tr>\n",
       "    <tr>\n",
       "        <td style=\"padding-left: 1em; padding-right: 1em; text-align: center; vertical-align: top\">1</td>\n",
       "        <td style=\"padding-left: 1em; padding-right: 1em; text-align: center; vertical-align: top\">0</td>\n",
       "        <td style=\"padding-left: 1em; padding-right: 1em; text-align: center; vertical-align: top\">1</td>\n",
       "        <td style=\"padding-left: 1em; padding-right: 1em; text-align: center; vertical-align: top\">0</td>\n",
       "    </tr>\n",
       "    <tr>\n",
       "        <td style=\"padding-left: 1em; padding-right: 1em; text-align: center; vertical-align: top\">1</td>\n",
       "        <td style=\"padding-left: 1em; padding-right: 1em; text-align: center; vertical-align: top\">0</td>\n",
       "        <td style=\"padding-left: 1em; padding-right: 1em; text-align: center; vertical-align: top\">0</td>\n",
       "        <td style=\"padding-left: 1em; padding-right: 1em; text-align: center; vertical-align: top\">0</td>\n",
       "    </tr>\n",
       "    <tr>\n",
       "        <td style=\"padding-left: 1em; padding-right: 1em; text-align: center; vertical-align: top\">0</td>\n",
       "        <td style=\"padding-left: 1em; padding-right: 1em; text-align: center; vertical-align: top\">0</td>\n",
       "        <td style=\"padding-left: 1em; padding-right: 1em; text-align: center; vertical-align: top\">1</td>\n",
       "        <td style=\"padding-left: 1em; padding-right: 1em; text-align: center; vertical-align: top\">0</td>\n",
       "    </tr>\n",
       "    <tr>\n",
       "        <td style=\"padding-left: 1em; padding-right: 1em; text-align: center; vertical-align: top\">0</td>\n",
       "        <td style=\"padding-left: 1em; padding-right: 1em; text-align: center; vertical-align: top\">1</td>\n",
       "        <td style=\"padding-left: 1em; padding-right: 1em; text-align: center; vertical-align: top\">1</td>\n",
       "        <td style=\"padding-left: 1em; padding-right: 1em; text-align: center; vertical-align: top\">1</td>\n",
       "    </tr>\n",
       "    <tr>\n",
       "        <td style=\"padding-left: 1em; padding-right: 1em; text-align: center; vertical-align: top\">0</td>\n",
       "        <td style=\"padding-left: 1em; padding-right: 1em; text-align: center; vertical-align: top\">1</td>\n",
       "        <td style=\"padding-left: 1em; padding-right: 1em; text-align: center; vertical-align: top\">0</td>\n",
       "        <td style=\"padding-left: 1em; padding-right: 1em; text-align: center; vertical-align: top\">0</td>\n",
       "    </tr>\n",
       "</table>\n",
       "[8 rows x 4 columns]<br/>\n",
       "</div>"
      ],
      "text/plain": [
       "Columns:\n",
       "\thasDarkHair\tint\n",
       "\thasBlondeHair\tint\n",
       "\tisTall\tint\n",
       "\thasBrownEyes\tint\n",
       "\n",
       "Rows: 8\n",
       "\n",
       "Data:\n",
       "+-------------+---------------+--------+--------------+\n",
       "| hasDarkHair | hasBlondeHair | isTall | hasBrownEyes |\n",
       "+-------------+---------------+--------+--------------+\n",
       "|      0      |       1       |   0    |      1       |\n",
       "|      1      |       0       |   1    |      1       |\n",
       "|      0      |       1       |   1    |      0       |\n",
       "|      1      |       0       |   1    |      0       |\n",
       "|      1      |       0       |   0    |      0       |\n",
       "|      0      |       0       |   1    |      0       |\n",
       "|      0      |       1       |   1    |      1       |\n",
       "|      0      |       1       |   0    |      0       |\n",
       "+-------------+---------------+--------+--------------+\n",
       "[8 rows x 4 columns]"
      ]
     },
     "execution_count": 6,
     "metadata": {},
     "output_type": "execute_result"
    }
   ],
   "source": [
    "data.add_column(data['Height'] == 'Tall', 'isTall')\n",
    "data.remove_column('Height')\n",
    "data.add_column(data['Eyes'] == 'Brown', 'hasBrownEyes')\n",
    "data.remove_column('Eyes')"
   ]
  },
  {
   "cell_type": "code",
   "execution_count": 7,
   "metadata": {
    "collapsed": false
   },
   "outputs": [],
   "source": [
    "classes = classes.apply(lambda x: 1 if x == 'Yes' else 0)"
   ]
  },
  {
   "cell_type": "code",
   "execution_count": 8,
   "metadata": {
    "collapsed": false
   },
   "outputs": [
    {
     "name": "stdout",
     "output_type": "stream",
     "text": [
      "0.606844121534\n",
      "0.951205059305\n",
      "0.90563906223\n",
      "0.606844121534\n"
     ]
    }
   ],
   "source": [
    "print decision_tree.calc_info_gain(data,classes,'hasBrownEyes')\n",
    "print decision_tree.calc_info_gain(data,classes,'isTall')\n",
    "print decision_tree.calc_info_gain(data,classes,'hasBlondeHair')\n",
    "print decision_tree.calc_info_gain(data,classes,'hasDarkHair')"
   ]
  },
  {
   "cell_type": "markdown",
   "metadata": {},
   "source": [
    "# Build the decision tree"
   ]
  },
  {
   "cell_type": "code",
   "execution_count": 11,
   "metadata": {
    "collapsed": false,
    "scrolled": true
   },
   "outputs": [
    {
     "name": "stdout",
     "output_type": "stream",
     "text": [
      "[0L, 0L, 1L, 0L, 0L, 1L, 0L, 1L]\n",
      "+-------------+---------------+--------+--------------+\n",
      "| hasDarkHair | hasBlondeHair | isTall | hasBrownEyes |\n",
      "+-------------+---------------+--------+--------------+\n",
      "|      0      |       1       |   0    |      1       |\n",
      "|      1      |       0       |   1    |      1       |\n",
      "|      0      |       1       |   1    |      0       |\n",
      "|      1      |       0       |   1    |      0       |\n",
      "|      1      |       0       |   0    |      0       |\n",
      "|      0      |       0       |   1    |      0       |\n",
      "|      0      |       1       |   1    |      1       |\n",
      "|      0      |       1       |   0    |      0       |\n",
      "+-------------+---------------+--------+--------------+\n",
      "[8 rows x 4 columns]\n",
      "\n",
      "[0L, 0L, 1L, ... ]\n",
      "+-------------+---------------+--------+--------------+\n",
      "| hasDarkHair | hasBlondeHair | isTall | hasBrownEyes |\n",
      "+-------------+---------------+--------+--------------+\n",
      "|      0      |       1       |   0    |      1       |\n",
      "|      1      |       0       |   0    |      0       |\n",
      "|      0      |       1       |   0    |      0       |\n",
      "+-------------+---------------+--------+--------------+\n",
      "[3 rows x 4 columns]\n",
      "\n",
      "[0L, 1L, ... ]\n",
      "+-------------+---------------+--------+--------------+\n",
      "| hasDarkHair | hasBlondeHair | isTall | hasBrownEyes |\n",
      "+-------------+---------------+--------+--------------+\n",
      "|      1      |       0       |   0    |      0       |\n",
      "|      0      |       1       |   0    |      0       |\n",
      "+-------------+---------------+--------+--------------+\n",
      "[2 rows x 4 columns]\n",
      "\n",
      "[0L, ... ]\n",
      "+-------------+---------------+--------+--------------+\n",
      "| hasDarkHair | hasBlondeHair | isTall | hasBrownEyes |\n",
      "+-------------+---------------+--------+--------------+\n",
      "|      1      |       0       |   0    |      0       |\n",
      "+-------------+---------------+--------+--------------+\n",
      "[1 rows x 4 columns]\n",
      "\n",
      "All classes are in one\n",
      "[1L, ... ]\n",
      "+-------------+---------------+--------+--------------+\n",
      "| hasDarkHair | hasBlondeHair | isTall | hasBrownEyes |\n",
      "+-------------+---------------+--------+--------------+\n",
      "|      0      |       1       |   0    |      0       |\n",
      "+-------------+---------------+--------+--------------+\n",
      "[1 rows x 4 columns]\n",
      "\n",
      "All classes are in one\n",
      "[0L, ... ]\n",
      "+-------------+---------------+--------+--------------+\n",
      "| hasDarkHair | hasBlondeHair | isTall | hasBrownEyes |\n",
      "+-------------+---------------+--------+--------------+\n",
      "|      0      |       1       |   0    |      1       |\n",
      "+-------------+---------------+--------+--------------+\n",
      "[1 rows x 4 columns]\n",
      "\n",
      "All classes are in one\n",
      "[0L, 1L, 0L, 1L, 0L, ... ]\n",
      "+-------------+---------------+--------+--------------+\n",
      "| hasDarkHair | hasBlondeHair | isTall | hasBrownEyes |\n",
      "+-------------+---------------+--------+--------------+\n",
      "|      1      |       0       |   1    |      1       |\n",
      "|      0      |       1       |   1    |      0       |\n",
      "|      1      |       0       |   1    |      0       |\n",
      "|      0      |       0       |   1    |      0       |\n",
      "|      0      |       1       |   1    |      1       |\n",
      "+-------------+---------------+--------+--------------+\n",
      "[5 rows x 4 columns]\n",
      "\n",
      "[0L, 0L, 1L, ... ]\n",
      "+-------------+---------------+--------+--------------+\n",
      "| hasDarkHair | hasBlondeHair | isTall | hasBrownEyes |\n",
      "+-------------+---------------+--------+--------------+\n",
      "|      1      |       0       |   1    |      1       |\n",
      "|      1      |       0       |   1    |      0       |\n",
      "|      0      |       0       |   1    |      0       |\n",
      "+-------------+---------------+--------+--------------+\n",
      "[3 rows x 4 columns]\n",
      "\n",
      "[0L, 1L, ... ]\n",
      "+-------------+---------------+--------+--------------+\n",
      "| hasDarkHair | hasBlondeHair | isTall | hasBrownEyes |\n",
      "+-------------+---------------+--------+--------------+\n",
      "|      1      |       0       |   1    |      0       |\n",
      "|      0      |       0       |   1    |      0       |\n",
      "+-------------+---------------+--------+--------------+\n",
      "[2 rows x 4 columns]\n",
      "\n",
      "[1L, ... ]\n",
      "+-------------+---------------+--------+--------------+\n",
      "| hasDarkHair | hasBlondeHair | isTall | hasBrownEyes |\n",
      "+-------------+---------------+--------+--------------+\n",
      "|      0      |       0       |   1    |      0       |\n",
      "+-------------+---------------+--------+--------------+\n",
      "[1 rows x 4 columns]\n",
      "\n",
      "Out of features\n",
      "[0L, ... ]\n",
      "+-------------+---------------+--------+--------------+\n",
      "| hasDarkHair | hasBlondeHair | isTall | hasBrownEyes |\n",
      "+-------------+---------------+--------+--------------+\n",
      "|      1      |       0       |   1    |      0       |\n",
      "+-------------+---------------+--------+--------------+\n",
      "[1 rows x 4 columns]\n",
      "\n",
      "Out of features\n",
      "[0L, ... ]\n",
      "+-------------+---------------+--------+--------------+\n",
      "| hasDarkHair | hasBlondeHair | isTall | hasBrownEyes |\n",
      "+-------------+---------------+--------+--------------+\n",
      "|      1      |       0       |   1    |      1       |\n",
      "+-------------+---------------+--------+--------------+\n",
      "[1 rows x 4 columns]\n",
      "\n",
      "All classes are in one\n",
      "[1L, 0L, ... ]\n",
      "+-------------+---------------+--------+--------------+\n",
      "| hasDarkHair | hasBlondeHair | isTall | hasBrownEyes |\n",
      "+-------------+---------------+--------+--------------+\n",
      "|      0      |       1       |   1    |      0       |\n",
      "|      0      |       1       |   1    |      1       |\n",
      "+-------------+---------------+--------+--------------+\n",
      "[2 rows x 4 columns]\n",
      "\n",
      "Run out of data\n"
     ]
    }
   ],
   "source": [
    "root = decision_tree.create_decision_tree(data,classes,data.column_names(),4)"
   ]
  },
  {
   "cell_type": "code",
   "execution_count": 10,
   "metadata": {
    "collapsed": false,
    "scrolled": true
   },
   "outputs": [
    {
     "name": "stdout",
     "output_type": "stream",
     "text": [
      "{'leftChild': {'leftChild': {'leftChild': {'output': 0, 'isLeaf': True}, 'feature': 'hasBlondeHair', 'isLeaf': False, 'rightChild': {'output': 1, 'isLeaf': True}}, 'feature': 'hasBrownEyes', 'isLeaf': False, 'rightChild': {'output': 0, 'isLeaf': True}}, 'feature': 'isTall', 'isLeaf': False, 'rightChild': {'leftChild': {'leftChild': {'output': 1, 'isLeaf': True}, 'feature': 'hasBrownEyes', 'isLeaf': False, 'rightChild': {'output': 0, 'isLeaf': True}}, 'feature': 'hasBlondeHair', 'isLeaf': False, 'rightChild': {'output': 1, 'isLeaf': True}}}\n"
     ]
    }
   ],
   "source": [
    "print root"
   ]
  },
  {
   "cell_type": "code",
   "execution_count": null,
   "metadata": {
    "collapsed": false
   },
   "outputs": [],
   "source": []
  },
  {
   "cell_type": "code",
   "execution_count": null,
   "metadata": {
    "collapsed": true
   },
   "outputs": [],
   "source": []
  }
 ],
 "metadata": {
  "kernelspec": {
   "display_name": "Python 2",
   "language": "python",
   "name": "python2"
  },
  "language_info": {
   "codemirror_mode": {
    "name": "ipython",
    "version": 2
   },
   "file_extension": ".py",
   "mimetype": "text/x-python",
   "name": "python",
   "nbconvert_exporter": "python",
   "pygments_lexer": "ipython2",
   "version": "2.7.11"
  }
 },
 "nbformat": 4,
 "nbformat_minor": 0
}
