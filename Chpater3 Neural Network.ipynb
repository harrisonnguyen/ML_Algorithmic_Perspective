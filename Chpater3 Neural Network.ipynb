{
 "cells": [
  {
   "cell_type": "code",
   "execution_count": 1,
   "metadata": {
    "collapsed": true
   },
   "outputs": [],
   "source": [
    "import numpy as np"
   ]
  },
  {
   "cell_type": "code",
   "execution_count": 28,
   "metadata": {
    "collapsed": true
   },
   "outputs": [],
   "source": [
    "#function that computes the activations and thresholds\n",
    "def nn_recall(data,weights):\n",
    "    activations = np.dot(data,weights) #compute activations\n",
    "    print activations\n",
    "    return np.where(activations>0,1,0) #threshold the activations"
   ]
  },
  {
   "cell_type": "code",
   "execution_count": 44,
   "metadata": {
    "collapsed": true
   },
   "outputs": [],
   "source": [
    "#functions that performs the weight update\n",
    "def nn_weight_update(data,weights,targets,eta):\n",
    "    activations = nn_recall(data,weights)\n",
    "    weights -= eta*np.dot(np.transpose(data),activations-targets)\n",
    "    return weights"
   ]
  },
  {
   "cell_type": "markdown",
   "metadata": {},
   "source": [
    "N =  number of training examples\n",
    "\n",
    "m = number of input neurons\n",
    "\n",
    "n = number of outputs\n",
    "\n",
    "Inputs are N x m matrix\n",
    "\n",
    "Weights are a m x n matrix\n",
    "\n",
    "y are N x n matrix"
   ]
  },
  {
   "cell_type": "code",
   "execution_count": 45,
   "metadata": {
    "collapsed": true
   },
   "outputs": [],
   "source": [
    "def initialise_training(data,nIn,nOut):\n",
    "    data = np.concatenate((data,-np.ones((data.shape[0],1))),axis = 1)\n",
    "    weights = np.random.rand(nIn+1,nOut)*0.1-0.05\n",
    "    return (data,weights)"
   ]
  },
  {
   "cell_type": "code",
   "execution_count": 57,
   "metadata": {
    "collapsed": false
   },
   "outputs": [],
   "source": [
    "data = np.array([[0,0],[0,1],[1,0],[1,1]])\n",
    "targets = np.array([[0],[1],[1],[1]])\n",
    "T = 5\n",
    "eta = 0.25\n",
    "data,weights = initialise_training(data,data.shape[1],targets.shape[1])"
   ]
  },
  {
   "cell_type": "code",
   "execution_count": 6,
   "metadata": {
    "collapsed": false
   },
   "outputs": [
    {
     "data": {
      "text/plain": [
       "array([[ 0.,  0., -1.],\n",
       "       [ 0.,  1., -1.],\n",
       "       [ 1.,  0., -1.],\n",
       "       [ 1.,  1., -1.]])"
      ]
     },
     "execution_count": 6,
     "metadata": {},
     "output_type": "execute_result"
    }
   ],
   "source": [
    "data"
   ]
  },
  {
   "cell_type": "code",
   "execution_count": 54,
   "metadata": {
    "collapsed": true
   },
   "outputs": [],
   "source": [
    "def train_network(data,targets,weights,T,eta):\n",
    "    for i in range(0,T):\n",
    "        weights = nn_weight_update(data,weights,targets,eta)\n",
    "        print 'Iteration %s output:' %i\n",
    "    return weights"
   ]
  },
  {
   "cell_type": "code",
   "execution_count": 58,
   "metadata": {
    "collapsed": false
   },
   "outputs": [
    {
     "name": "stdout",
     "output_type": "stream",
     "text": [
      "[[ 0.046475  ]\n",
      " [ 0.09037358]\n",
      " [ 0.04703405]\n",
      " [ 0.09093263]]\n",
      "Iteration 0 output:\n",
      "[[-0.203525  ]\n",
      " [-0.15962642]\n",
      " [-0.20296595]\n",
      " [-0.15906737]]\n",
      "Iteration 1 output:\n",
      "[[ 0.546475  ]\n",
      " [ 1.09037358]\n",
      " [ 1.04703405]\n",
      " [ 1.59093263]]\n",
      "Iteration 2 output:\n",
      "[[ 0.296475  ]\n",
      " [ 0.84037358]\n",
      " [ 0.79703405]\n",
      " [ 1.34093263]]\n",
      "Iteration 3 output:\n",
      "[[ 0.046475  ]\n",
      " [ 0.59037358]\n",
      " [ 0.54703405]\n",
      " [ 1.09093263]]\n",
      "Iteration 4 output:\n"
     ]
    }
   ],
   "source": [
    "final_weights = train_network(data,targets,weights,T,eta)"
   ]
  },
  {
   "cell_type": "code",
   "execution_count": 59,
   "metadata": {
    "collapsed": false
   },
   "outputs": [
    {
     "name": "stdout",
     "output_type": "stream",
     "text": [
      "[[-0.203525  ]\n",
      " [ 0.34037358]\n",
      " [ 0.29703405]\n",
      " [ 0.84093263]]\n",
      "[[0]\n",
      " [1]\n",
      " [1]\n",
      " [1]]\n"
     ]
    }
   ],
   "source": [
    "print nn_recall(data,final_weights)"
   ]
  },
  {
   "cell_type": "code",
   "execution_count": null,
   "metadata": {
    "collapsed": true
   },
   "outputs": [],
   "source": []
  }
 ],
 "metadata": {
  "kernelspec": {
   "display_name": "Python 2",
   "language": "python",
   "name": "python2"
  },
  "language_info": {
   "codemirror_mode": {
    "name": "ipython",
    "version": 2
   },
   "file_extension": ".py",
   "mimetype": "text/x-python",
   "name": "python",
   "nbconvert_exporter": "python",
   "pygments_lexer": "ipython2",
   "version": "2.7.11"
  }
 },
 "nbformat": 4,
 "nbformat_minor": 0
}
