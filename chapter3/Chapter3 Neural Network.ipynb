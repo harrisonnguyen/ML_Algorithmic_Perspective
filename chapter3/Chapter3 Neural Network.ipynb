{
 "cells": [
  {
   "cell_type": "code",
   "execution_count": null,
   "metadata": {
    "collapsed": true
   },
   "outputs": [],
   "source": [
    "import numpy as np"
   ]
  },
  {
   "cell_type": "code",
   "execution_count": null,
   "metadata": {
    "collapsed": false
   },
   "outputs": [],
   "source": [
    "import pcn_logic_eq"
   ]
  },
  {
   "cell_type": "markdown",
   "metadata": {},
   "source": [
    "N =  number of training examples\n",
    "\n",
    "m = number of input neurons\n",
    "\n",
    "n = number of outputs\n",
    "\n",
    "Inputs are N x m matrix\n",
    "\n",
    "Weights are a m x n matrix\n",
    "\n",
    "y are N x n matrix"
   ]
  },
  {
   "cell_type": "markdown",
   "metadata": {},
   "source": [
    "# We test the nn with an OR function"
   ]
  },
  {
   "cell_type": "code",
   "execution_count": null,
   "metadata": {
    "collapsed": false
   },
   "outputs": [],
   "source": [
    "data = np.array([[0,0],[0,1],[1,0],[1,1]])\n",
    "targets = np.array([[0],[1],[1],[1]])\n",
    "T = 5\n",
    "eta = 0.25"
   ]
  },
  {
   "cell_type": "code",
   "execution_count": null,
   "metadata": {
    "collapsed": true
   },
   "outputs": [],
   "source": [
    "p = pcn_logic_eq.pcn(data,targets)"
   ]
  },
  {
   "cell_type": "code",
   "execution_count": null,
   "metadata": {
    "collapsed": false
   },
   "outputs": [],
   "source": [
    "p.pcntrain(data,targets,eta,T)"
   ]
  },
  {
   "cell_type": "markdown",
   "metadata": {},
   "source": [
    "# We now test with a XOR function"
   ]
  },
  {
   "cell_type": "code",
   "execution_count": null,
   "metadata": {
    "collapsed": true
   },
   "outputs": [],
   "source": [
    "targets = np.array([[0],[1],[1],[0]])"
   ]
  },
  {
   "cell_type": "code",
   "execution_count": null,
   "metadata": {
    "collapsed": false
   },
   "outputs": [],
   "source": [
    "p.pcntrain(data,targets,0.25,15)"
   ]
  },
  {
   "cell_type": "markdown",
   "metadata": {},
   "source": [
    "We see that the algorithm does not converge as an XOR function is not linearly separable. It keeps cycling between two wrong solutions."
   ]
  },
  {
   "cell_type": "markdown",
   "metadata": {},
   "source": [
    "## Test XOR function in 3D "
   ]
  },
  {
   "cell_type": "code",
   "execution_count": null,
   "metadata": {
    "collapsed": true
   },
   "outputs": [],
   "source": [
    "inputs = np.array([[0,0,1],[0,1,0],[1,0,0],[1,1,0]])"
   ]
  },
  {
   "cell_type": "code",
   "execution_count": null,
   "metadata": {
    "collapsed": true
   },
   "outputs": [],
   "source": [
    "p = pcn_logic_eq.pcn(inputs,targets)"
   ]
  },
  {
   "cell_type": "code",
   "execution_count": null,
   "metadata": {
    "collapsed": false
   },
   "outputs": [],
   "source": [
    "p.pcntrain(inputs,targets,0.25,15)"
   ]
  },
  {
   "cell_type": "markdown",
   "metadata": {},
   "source": [
    "We see that the NN reaches a stable, correct output. It is always possible to separate out two classes with a linear function, provided that you project the data into the correct set of dimensions."
   ]
  },
  {
   "cell_type": "markdown",
   "metadata": {},
   "source": [
    "# We test using the pima data set"
   ]
  },
  {
   "cell_type": "code",
   "execution_count": null,
   "metadata": {
    "collapsed": true
   },
   "outputs": [],
   "source": [
    "import pylab as pl\n",
    "%matplotlib inline"
   ]
  },
  {
   "cell_type": "code",
   "execution_count": null,
   "metadata": {
    "collapsed": false
   },
   "outputs": [],
   "source": [
    "pima = np.loadtxt('pima-indians-diabetes.data',delimiter=',')"
   ]
  },
  {
   "cell_type": "code",
   "execution_count": null,
   "metadata": {
    "collapsed": false
   },
   "outputs": [],
   "source": [
    "np.shape(pima)"
   ]
  },
  {
   "cell_type": "code",
   "execution_count": null,
   "metadata": {
    "collapsed": false
   },
   "outputs": [],
   "source": [
    "pima"
   ]
  },
  {
   "cell_type": "code",
   "execution_count": null,
   "metadata": {
    "collapsed": false
   },
   "outputs": [],
   "source": [
    "indices0 = np.where(pima[:,8]==0)\n",
    "indices1 = np.where(pima[:,8]==1)"
   ]
  },
  {
   "cell_type": "code",
   "execution_count": null,
   "metadata": {
    "collapsed": false
   },
   "outputs": [],
   "source": [
    "pl.ion()\n",
    "pl.plot(pima[indices0,0],pima[indices0,1],'go')\n",
    "pl.plot(pima[indices1,0],pima[indices1,1],'rx')\n",
    "#pl.show()"
   ]
  },
  {
   "cell_type": "code",
   "execution_count": null,
   "metadata": {
    "collapsed": false
   },
   "outputs": [],
   "source": [
    "p = pcn_logic_eq.pcn(pima[:,:8],pima[:,8:9])\n",
    "p.pcntrain(pima[:,:8],pima[:,8:9],0.25,100)\n",
    "p.confmat(pima[:,:8],pima[:,8:9])"
   ]
  },
  {
   "cell_type": "markdown",
   "metadata": {},
   "source": [
    "The accuracy is only 54.55%! Only slightly better than random guessing."
   ]
  },
  {
   "cell_type": "markdown",
   "metadata": {},
   "source": [
    "## We split the data into training and testing sets"
   ]
  },
  {
   "cell_type": "code",
   "execution_count": null,
   "metadata": {
    "collapsed": true
   },
   "outputs": [],
   "source": [
    "trainin = pima[::2,:8]\n",
    "testin = pima[1::2,:8]\n",
    "traintgt = pima[::2,8:9]\n",
    "testtgt = pima[1::2,8:9]"
   ]
  },
  {
   "cell_type": "code",
   "execution_count": null,
   "metadata": {
    "collapsed": true
   },
   "outputs": [],
   "source": []
  },
  {
   "cell_type": "markdown",
   "metadata": {},
   "source": [
    "# We now try doing linear regression"
   ]
  },
  {
   "cell_type": "code",
   "execution_count": 1,
   "metadata": {
    "collapsed": false
   },
   "outputs": [],
   "source": [
    "import linregression\n",
    "import numpy as np"
   ]
  },
  {
   "cell_type": "code",
   "execution_count": 2,
   "metadata": {
    "collapsed": false
   },
   "outputs": [],
   "source": [
    "auto = np.loadtxt('auto-mpg.data',comments ='\"')"
   ]
  },
  {
   "cell_type": "markdown",
   "metadata": {},
   "source": [
    "The first column, efficiency is our target and columns 3-6 are our features (displacement, horsepower, weight, acceleration)"
   ]
  },
  {
   "cell_type": "code",
   "execution_count": 3,
   "metadata": {
    "collapsed": false
   },
   "outputs": [],
   "source": [
    "training = auto[::,:]\n",
    "test = auto[1::2,:]"
   ]
  },
  {
   "cell_type": "code",
   "execution_count": 8,
   "metadata": {
    "collapsed": false
   },
   "outputs": [
    {
     "data": {
      "text/plain": [
       "array([ 18. ,  15. ,  18. ,  16. ,  17. ,  15. ,  14. ,  14. ,  14. ,\n",
       "        15. ,  15. ,  14. ,  15. ,  14. ,  24. ,  22. ,  18. ,  21. ,\n",
       "        27. ,  26. ,  25. ,  24. ,  25. ,  26. ,  21. ,  10. ,  10. ,\n",
       "        11. ,   9. ,  27. ,  28. ,  25. ,  19. ,  16. ,  17. ,  19. ,\n",
       "        18. ,  14. ,  14. ,  14. ,  14. ,  12. ,  13. ,  13. ,  18. ,\n",
       "        22. ,  19. ,  18. ,  23. ,  28. ,  30. ,  30. ,  31. ,  35. ,\n",
       "        27. ,  26. ,  24. ,  25. ,  23. ,  20. ,  21. ,  13. ,  14. ,\n",
       "        15. ,  14. ,  17. ,  11. ,  13. ,  12. ,  13. ,  19. ,  15. ,\n",
       "        13. ,  13. ,  14. ,  18. ,  22. ,  21. ,  26. ,  22. ,  28. ,\n",
       "        23. ,  28. ,  27. ,  13. ,  14. ,  13. ,  14. ,  15. ,  12. ,\n",
       "        13. ,  13. ,  14. ,  13. ,  12. ,  13. ,  18. ,  16. ,  18. ,\n",
       "        18. ,  23. ,  26. ,  11. ,  12. ,  13. ,  12. ,  18. ,  20. ,\n",
       "        21. ,  22. ,  18. ,  19. ,  21. ,  26. ,  15. ,  16. ,  29. ,\n",
       "        24. ,  20. ,  19. ,  15. ,  24. ,  20. ,  11. ,  20. ,  19. ,\n",
       "        15. ,  31. ,  26. ,  32. ,  25. ,  16. ,  16. ,  18. ,  16. ,\n",
       "        13. ,  14. ,  14. ,  14. ,  29. ,  26. ,  26. ,  31. ,  32. ,\n",
       "        28. ,  24. ,  26. ,  24. ,  26. ,  31. ,  19. ,  18. ,  15. ,\n",
       "        15. ,  16. ,  15. ,  16. ,  14. ,  17. ,  16. ,  15. ,  18. ,\n",
       "        21. ,  20. ,  13. ,  29. ,  23. ,  20. ,  23. ,  24. ,  25. ,\n",
       "        24. ,  18. ,  29. ,  19. ,  23. ,  23. ,  22. ,  25. ,  33. ,\n",
       "        28. ,  25. ,  25. ,  26. ,  27. ,  17.5,  16. ,  15.5,  14.5,\n",
       "        22. ,  22. ,  24. ,  22.5,  29. ,  24.5,  29. ,  33. ,  20. ,\n",
       "        18. ,  18.5,  17.5,  29.5,  32. ,  28. ,  26.5,  20. ,  13. ,\n",
       "        19. ,  19. ,  16.5,  16.5,  13. ,  13. ,  13. ,  31.5,  30. ,\n",
       "        36. ,  25.5,  33.5,  17.5,  17. ,  15.5,  15. ,  17.5,  20.5,\n",
       "        19. ,  18.5,  16. ,  15.5,  15.5,  16. ,  29. ,  24.5,  26. ,\n",
       "        25.5,  30.5,  33.5,  30. ,  30.5,  22. ,  21.5,  21.5,  43.1,\n",
       "        36.1,  32.8,  39.4,  36.1,  19.9,  19.4,  20.2,  19.2,  20.5,\n",
       "        20.2,  25.1,  20.5,  19.4,  20.6,  20.8,  18.6,  18.1,  19.2,\n",
       "        17.7,  18.1,  17.5,  30. ,  27.5,  27.2,  30.9,  21.1,  23.2,\n",
       "        23.8,  23.9,  20.3,  17. ,  21.6,  16.2,  31.5,  29.5,  21.5,\n",
       "        19.8,  22.3,  20.2,  20.6,  17. ,  17.6,  16.5,  18.2,  16.9,\n",
       "        15.5,  19.2,  18.5,  31.9,  34.1,  35.7,  27.4,  25.4,  23. ,\n",
       "        27.2,  23.9,  34.2,  34.5,  31.8,  37.3,  28.4,  28.8,  26.8,\n",
       "        33.5,  41.5,  38.1,  32.1,  37.2,  28. ,  26.4,  24.3,  19.1,\n",
       "        34.3,  29.8,  31.3,  37. ,  32.2,  46.6,  27.9,  40.8,  44.3,\n",
       "        43.4,  36.4,  30. ,  44.6,  33.8,  29.8,  32.7,  23.7,  35. ,\n",
       "        32.4,  27.2,  26.6,  25.8,  23.5,  30. ,  39.1,  39. ,  35.1,\n",
       "        32.3,  37. ,  37.7,  34.1,  34.7,  34.4,  29.9,  33. ,  33.7,\n",
       "        32.4,  32.9,  31.6,  28.1,  30.7,  25.4,  24.2,  22.4,  26.6,\n",
       "        20.2,  17.6,  28. ,  27. ,  34. ,  31. ,  29. ,  27. ,  24. ,\n",
       "        36. ,  37. ,  31. ,  38. ,  36. ,  36. ,  36. ,  34. ,  38. ,\n",
       "        32. ,  38. ,  25. ,  38. ,  26. ,  22. ,  32. ,  36. ,  27. ,\n",
       "        27. ,  44. ,  32. ,  28. ,  31. ])"
      ]
     },
     "execution_count": 8,
     "metadata": {},
     "output_type": "execute_result"
    }
   ],
   "source": [
    "training[:,0]"
   ]
  },
  {
   "cell_type": "code",
   "execution_count": 4,
   "metadata": {
    "collapsed": false
   },
   "outputs": [],
   "source": [
    "l = linregression.linreg_model(training[:,2:6],training[:,0])"
   ]
  },
  {
   "cell_type": "code",
   "execution_count": 5,
   "metadata": {
    "collapsed": false
   },
   "outputs": [],
   "source": [
    "beta = l.linreg(training[:,2:6],training[:,0])"
   ]
  },
  {
   "cell_type": "code",
   "execution_count": 6,
   "metadata": {
    "collapsed": false,
    "scrolled": true
   },
   "outputs": [],
   "source": [
    "predictions = l.predict(test[:,2:6],beta)"
   ]
  },
  {
   "cell_type": "code",
   "execution_count": 7,
   "metadata": {
    "collapsed": true
   },
   "outputs": [],
   "source": [
    "error = np.sum((predictions - test[:,0])**2)"
   ]
  },
  {
   "cell_type": "code",
   "execution_count": 8,
   "metadata": {
    "collapsed": false
   },
   "outputs": [
    {
     "data": {
      "text/plain": [
       "3227.8601920621168"
      ]
     },
     "execution_count": 8,
     "metadata": {},
     "output_type": "execute_result"
    }
   ],
   "source": [
    "error"
   ]
  },
  {
   "cell_type": "code",
   "execution_count": null,
   "metadata": {
    "collapsed": true
   },
   "outputs": [],
   "source": []
  }
 ],
 "metadata": {
  "kernelspec": {
   "display_name": "Python 2",
   "language": "python",
   "name": "python2"
  },
  "language_info": {
   "codemirror_mode": {
    "name": "ipython",
    "version": 2
   },
   "file_extension": ".py",
   "mimetype": "text/x-python",
   "name": "python",
   "nbconvert_exporter": "python",
   "pygments_lexer": "ipython2",
   "version": "2.7.11"
  }
 },
 "nbformat": 4,
 "nbformat_minor": 0
}
