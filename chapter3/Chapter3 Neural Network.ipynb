{
 "cells": [
  {
   "cell_type": "code",
   "execution_count": 1,
   "metadata": {
    "collapsed": true
   },
   "outputs": [],
   "source": [
    "import numpy as np"
   ]
  },
  {
   "cell_type": "code",
   "execution_count": 2,
   "metadata": {
    "collapsed": false
   },
   "outputs": [],
   "source": [
    "import pcn_logic_eq"
   ]
  },
  {
   "cell_type": "markdown",
   "metadata": {},
   "source": [
    "N =  number of training examples\n",
    "\n",
    "m = number of input neurons\n",
    "\n",
    "n = number of outputs\n",
    "\n",
    "Inputs are N x m matrix\n",
    "\n",
    "Weights are a m x n matrix\n",
    "\n",
    "y are N x n matrix"
   ]
  },
  {
   "cell_type": "markdown",
   "metadata": {},
   "source": [
    "# We test the nn with an OR function"
   ]
  },
  {
   "cell_type": "code",
   "execution_count": 3,
   "metadata": {
    "collapsed": false
   },
   "outputs": [],
   "source": [
    "data = np.array([[0,0],[0,1],[1,0],[1,1]])\n",
    "targets = np.array([[0],[1],[1],[1]])\n",
    "T = 5\n",
    "eta = 0.25"
   ]
  },
  {
   "cell_type": "code",
   "execution_count": 4,
   "metadata": {
    "collapsed": true
   },
   "outputs": [],
   "source": [
    "p = pcn_logic_eq.pcn(data,targets)"
   ]
  },
  {
   "cell_type": "code",
   "execution_count": 5,
   "metadata": {
    "collapsed": false
   },
   "outputs": [],
   "source": [
    "p.pcntrain(data,targets,eta,T)"
   ]
  },
  {
   "cell_type": "markdown",
   "metadata": {},
   "source": [
    "# We now test with a XOR function"
   ]
  },
  {
   "cell_type": "code",
   "execution_count": 6,
   "metadata": {
    "collapsed": true
   },
   "outputs": [],
   "source": [
    "targets = np.array([[0],[1],[1],[0]])"
   ]
  },
  {
   "cell_type": "code",
   "execution_count": 7,
   "metadata": {
    "collapsed": false
   },
   "outputs": [],
   "source": [
    "p.pcntrain(data,targets,0.25,15)"
   ]
  },
  {
   "cell_type": "markdown",
   "metadata": {},
   "source": [
    "We see that the algorithm does not converge as an XOR function is not linearly separable. It keeps cycling between two wrong solutions."
   ]
  },
  {
   "cell_type": "markdown",
   "metadata": {},
   "source": [
    "## Test XOR function in 3D "
   ]
  },
  {
   "cell_type": "code",
   "execution_count": 8,
   "metadata": {
    "collapsed": true
   },
   "outputs": [],
   "source": [
    "inputs = np.array([[0,0,1],[0,1,0],[1,0,0],[1,1,0]])"
   ]
  },
  {
   "cell_type": "code",
   "execution_count": 9,
   "metadata": {
    "collapsed": true
   },
   "outputs": [],
   "source": [
    "p = pcn_logic_eq.pcn(inputs,targets)"
   ]
  },
  {
   "cell_type": "code",
   "execution_count": 10,
   "metadata": {
    "collapsed": false
   },
   "outputs": [],
   "source": [
    "p.pcntrain(inputs,targets,0.25,15)"
   ]
  },
  {
   "cell_type": "markdown",
   "metadata": {},
   "source": [
    "We see that the NN reaches a stable, correct output. It is always possible to separate out two classes with a linear function, provided that you project the data into the correct set of dimensions."
   ]
  },
  {
   "cell_type": "markdown",
   "metadata": {},
   "source": [
    "# We test using the pima data set"
   ]
  },
  {
   "cell_type": "code",
   "execution_count": 11,
   "metadata": {
    "collapsed": true
   },
   "outputs": [],
   "source": [
    "import pylab as pl\n",
    "%matplotlib inline"
   ]
  },
  {
   "cell_type": "code",
   "execution_count": 12,
   "metadata": {
    "collapsed": false
   },
   "outputs": [],
   "source": [
    "pima = np.loadtxt('pima-indians-diabetes.data',delimiter=',')"
   ]
  },
  {
   "cell_type": "code",
   "execution_count": 13,
   "metadata": {
    "collapsed": false
   },
   "outputs": [
    {
     "data": {
      "text/plain": [
       "(768L, 9L)"
      ]
     },
     "execution_count": 13,
     "metadata": {},
     "output_type": "execute_result"
    }
   ],
   "source": [
    "np.shape(pima)"
   ]
  },
  {
   "cell_type": "code",
   "execution_count": 14,
   "metadata": {
    "collapsed": false
   },
   "outputs": [
    {
     "data": {
      "text/plain": [
       "array([[   6.   ,  148.   ,   72.   , ...,    0.627,   50.   ,    1.   ],\n",
       "       [   1.   ,   85.   ,   66.   , ...,    0.351,   31.   ,    0.   ],\n",
       "       [   8.   ,  183.   ,   64.   , ...,    0.672,   32.   ,    1.   ],\n",
       "       ..., \n",
       "       [   5.   ,  121.   ,   72.   , ...,    0.245,   30.   ,    0.   ],\n",
       "       [   1.   ,  126.   ,   60.   , ...,    0.349,   47.   ,    1.   ],\n",
       "       [   1.   ,   93.   ,   70.   , ...,    0.315,   23.   ,    0.   ]])"
      ]
     },
     "execution_count": 14,
     "metadata": {},
     "output_type": "execute_result"
    }
   ],
   "source": [
    "pima"
   ]
  },
  {
   "cell_type": "code",
   "execution_count": 15,
   "metadata": {
    "collapsed": false
   },
   "outputs": [],
   "source": [
    "indices0 = np.where(pima[:,8]==0)\n",
    "indices1 = np.where(pima[:,8]==1)"
   ]
  },
  {
   "cell_type": "code",
   "execution_count": 16,
   "metadata": {
    "collapsed": false
   },
   "outputs": [
    {
     "data": {
      "text/plain": [
       "[<matplotlib.lines.Line2D at 0x4578da0>,\n",
       " <matplotlib.lines.Line2D at 0x8647eb8>,\n",
       " <matplotlib.lines.Line2D at 0x8647fd0>,\n",
       " <matplotlib.lines.Line2D at 0x86570f0>,\n",
       " <matplotlib.lines.Line2D at 0x86571d0>,\n",
       " <matplotlib.lines.Line2D at 0x86572b0>,\n",
       " <matplotlib.lines.Line2D at 0x8657390>,\n",
       " <matplotlib.lines.Line2D at 0x8657470>,\n",
       " <matplotlib.lines.Line2D at 0x8657550>,\n",
       " <matplotlib.lines.Line2D at 0x8657630>,\n",
       " <matplotlib.lines.Line2D at 0x8657710>,\n",
       " <matplotlib.lines.Line2D at 0x86577f0>,\n",
       " <matplotlib.lines.Line2D at 0x86578d0>,\n",
       " <matplotlib.lines.Line2D at 0x86579b0>,\n",
       " <matplotlib.lines.Line2D at 0x8657a90>,\n",
       " <matplotlib.lines.Line2D at 0x8657b70>,\n",
       " <matplotlib.lines.Line2D at 0x8657c50>,\n",
       " <matplotlib.lines.Line2D at 0x8657d30>,\n",
       " <matplotlib.lines.Line2D at 0x8657e10>,\n",
       " <matplotlib.lines.Line2D at 0x8657ef0>,\n",
       " <matplotlib.lines.Line2D at 0x8657fd0>,\n",
       " <matplotlib.lines.Line2D at 0x86650f0>,\n",
       " <matplotlib.lines.Line2D at 0x86651d0>,\n",
       " <matplotlib.lines.Line2D at 0x86652b0>,\n",
       " <matplotlib.lines.Line2D at 0x8665390>,\n",
       " <matplotlib.lines.Line2D at 0x8665470>,\n",
       " <matplotlib.lines.Line2D at 0x8665550>,\n",
       " <matplotlib.lines.Line2D at 0x8665630>,\n",
       " <matplotlib.lines.Line2D at 0x8665710>,\n",
       " <matplotlib.lines.Line2D at 0x86657f0>,\n",
       " <matplotlib.lines.Line2D at 0x86658d0>,\n",
       " <matplotlib.lines.Line2D at 0x86659b0>,\n",
       " <matplotlib.lines.Line2D at 0x8665a90>,\n",
       " <matplotlib.lines.Line2D at 0x8665b70>,\n",
       " <matplotlib.lines.Line2D at 0x8665c50>,\n",
       " <matplotlib.lines.Line2D at 0x8665d30>,\n",
       " <matplotlib.lines.Line2D at 0x8665e10>,\n",
       " <matplotlib.lines.Line2D at 0x8665ef0>,\n",
       " <matplotlib.lines.Line2D at 0x8665fd0>,\n",
       " <matplotlib.lines.Line2D at 0x86710f0>,\n",
       " <matplotlib.lines.Line2D at 0x86711d0>,\n",
       " <matplotlib.lines.Line2D at 0x86712b0>,\n",
       " <matplotlib.lines.Line2D at 0x8671390>,\n",
       " <matplotlib.lines.Line2D at 0x8671470>,\n",
       " <matplotlib.lines.Line2D at 0x8671550>,\n",
       " <matplotlib.lines.Line2D at 0x8671630>,\n",
       " <matplotlib.lines.Line2D at 0x8671710>,\n",
       " <matplotlib.lines.Line2D at 0x86717f0>,\n",
       " <matplotlib.lines.Line2D at 0x86718d0>,\n",
       " <matplotlib.lines.Line2D at 0x86719b0>,\n",
       " <matplotlib.lines.Line2D at 0x8671a90>,\n",
       " <matplotlib.lines.Line2D at 0x8671b70>,\n",
       " <matplotlib.lines.Line2D at 0x8671c50>,\n",
       " <matplotlib.lines.Line2D at 0x8671d30>,\n",
       " <matplotlib.lines.Line2D at 0x8671e10>,\n",
       " <matplotlib.lines.Line2D at 0x8671ef0>,\n",
       " <matplotlib.lines.Line2D at 0x8671fd0>,\n",
       " <matplotlib.lines.Line2D at 0x867f0f0>,\n",
       " <matplotlib.lines.Line2D at 0x867f1d0>,\n",
       " <matplotlib.lines.Line2D at 0x867f2b0>,\n",
       " <matplotlib.lines.Line2D at 0x867f390>,\n",
       " <matplotlib.lines.Line2D at 0x867f470>,\n",
       " <matplotlib.lines.Line2D at 0x867f550>,\n",
       " <matplotlib.lines.Line2D at 0x867f630>,\n",
       " <matplotlib.lines.Line2D at 0x867f710>,\n",
       " <matplotlib.lines.Line2D at 0x867f7f0>,\n",
       " <matplotlib.lines.Line2D at 0x867f8d0>,\n",
       " <matplotlib.lines.Line2D at 0x867f9b0>,\n",
       " <matplotlib.lines.Line2D at 0x867fa90>,\n",
       " <matplotlib.lines.Line2D at 0x867fb70>,\n",
       " <matplotlib.lines.Line2D at 0x867fc50>,\n",
       " <matplotlib.lines.Line2D at 0x867fd30>,\n",
       " <matplotlib.lines.Line2D at 0x867fe10>,\n",
       " <matplotlib.lines.Line2D at 0x867fef0>,\n",
       " <matplotlib.lines.Line2D at 0x867ffd0>,\n",
       " <matplotlib.lines.Line2D at 0x868c0f0>,\n",
       " <matplotlib.lines.Line2D at 0x868c1d0>,\n",
       " <matplotlib.lines.Line2D at 0x868c2b0>,\n",
       " <matplotlib.lines.Line2D at 0x868c390>,\n",
       " <matplotlib.lines.Line2D at 0x868c470>,\n",
       " <matplotlib.lines.Line2D at 0x868c550>,\n",
       " <matplotlib.lines.Line2D at 0x868c630>,\n",
       " <matplotlib.lines.Line2D at 0x868c710>,\n",
       " <matplotlib.lines.Line2D at 0x868c7f0>,\n",
       " <matplotlib.lines.Line2D at 0x868c8d0>,\n",
       " <matplotlib.lines.Line2D at 0x868c9b0>,\n",
       " <matplotlib.lines.Line2D at 0x868ca90>,\n",
       " <matplotlib.lines.Line2D at 0x868cb70>,\n",
       " <matplotlib.lines.Line2D at 0x868cc50>,\n",
       " <matplotlib.lines.Line2D at 0x868cd30>,\n",
       " <matplotlib.lines.Line2D at 0x868ce10>,\n",
       " <matplotlib.lines.Line2D at 0x868cef0>,\n",
       " <matplotlib.lines.Line2D at 0x868cfd0>,\n",
       " <matplotlib.lines.Line2D at 0x86990f0>,\n",
       " <matplotlib.lines.Line2D at 0x86991d0>,\n",
       " <matplotlib.lines.Line2D at 0x86992b0>,\n",
       " <matplotlib.lines.Line2D at 0x8699390>,\n",
       " <matplotlib.lines.Line2D at 0x8699470>,\n",
       " <matplotlib.lines.Line2D at 0x8699550>,\n",
       " <matplotlib.lines.Line2D at 0x8699630>,\n",
       " <matplotlib.lines.Line2D at 0x8699710>,\n",
       " <matplotlib.lines.Line2D at 0x86997f0>,\n",
       " <matplotlib.lines.Line2D at 0x86998d0>,\n",
       " <matplotlib.lines.Line2D at 0x86999b0>,\n",
       " <matplotlib.lines.Line2D at 0x8699a90>,\n",
       " <matplotlib.lines.Line2D at 0x8699b70>,\n",
       " <matplotlib.lines.Line2D at 0x8699c50>,\n",
       " <matplotlib.lines.Line2D at 0x8699d30>,\n",
       " <matplotlib.lines.Line2D at 0x8699e10>,\n",
       " <matplotlib.lines.Line2D at 0x8699ef0>,\n",
       " <matplotlib.lines.Line2D at 0x8699fd0>,\n",
       " <matplotlib.lines.Line2D at 0x86a40f0>,\n",
       " <matplotlib.lines.Line2D at 0x86a41d0>,\n",
       " <matplotlib.lines.Line2D at 0x86a42b0>,\n",
       " <matplotlib.lines.Line2D at 0x86a4390>,\n",
       " <matplotlib.lines.Line2D at 0x86a4470>,\n",
       " <matplotlib.lines.Line2D at 0x86a4550>,\n",
       " <matplotlib.lines.Line2D at 0x86a4630>,\n",
       " <matplotlib.lines.Line2D at 0x86a4710>,\n",
       " <matplotlib.lines.Line2D at 0x86a47f0>,\n",
       " <matplotlib.lines.Line2D at 0x86a48d0>,\n",
       " <matplotlib.lines.Line2D at 0x86a49b0>,\n",
       " <matplotlib.lines.Line2D at 0x86a4a90>,\n",
       " <matplotlib.lines.Line2D at 0x86a4b70>,\n",
       " <matplotlib.lines.Line2D at 0x86a4c50>,\n",
       " <matplotlib.lines.Line2D at 0x86a4d30>,\n",
       " <matplotlib.lines.Line2D at 0x86a4e10>,\n",
       " <matplotlib.lines.Line2D at 0x86a4ef0>,\n",
       " <matplotlib.lines.Line2D at 0x86a4fd0>,\n",
       " <matplotlib.lines.Line2D at 0x86f90f0>,\n",
       " <matplotlib.lines.Line2D at 0x86f91d0>,\n",
       " <matplotlib.lines.Line2D at 0x86f92b0>,\n",
       " <matplotlib.lines.Line2D at 0x86f9390>,\n",
       " <matplotlib.lines.Line2D at 0x86f9470>,\n",
       " <matplotlib.lines.Line2D at 0x86f9550>,\n",
       " <matplotlib.lines.Line2D at 0x86f9630>,\n",
       " <matplotlib.lines.Line2D at 0x86f9710>,\n",
       " <matplotlib.lines.Line2D at 0x86f97f0>,\n",
       " <matplotlib.lines.Line2D at 0x86f98d0>,\n",
       " <matplotlib.lines.Line2D at 0x86f99b0>,\n",
       " <matplotlib.lines.Line2D at 0x86f9a90>,\n",
       " <matplotlib.lines.Line2D at 0x86f9b70>,\n",
       " <matplotlib.lines.Line2D at 0x86f9c50>,\n",
       " <matplotlib.lines.Line2D at 0x86f9d30>,\n",
       " <matplotlib.lines.Line2D at 0x86f9e10>,\n",
       " <matplotlib.lines.Line2D at 0x86f9ef0>,\n",
       " <matplotlib.lines.Line2D at 0x86f9fd0>,\n",
       " <matplotlib.lines.Line2D at 0x87050f0>,\n",
       " <matplotlib.lines.Line2D at 0x87051d0>,\n",
       " <matplotlib.lines.Line2D at 0x87052b0>,\n",
       " <matplotlib.lines.Line2D at 0x8705390>,\n",
       " <matplotlib.lines.Line2D at 0x8705470>,\n",
       " <matplotlib.lines.Line2D at 0x8705550>,\n",
       " <matplotlib.lines.Line2D at 0x8705630>,\n",
       " <matplotlib.lines.Line2D at 0x8705710>,\n",
       " <matplotlib.lines.Line2D at 0x87057f0>,\n",
       " <matplotlib.lines.Line2D at 0x87058d0>,\n",
       " <matplotlib.lines.Line2D at 0x87059b0>,\n",
       " <matplotlib.lines.Line2D at 0x8705a90>,\n",
       " <matplotlib.lines.Line2D at 0x8705b70>,\n",
       " <matplotlib.lines.Line2D at 0x8705c50>,\n",
       " <matplotlib.lines.Line2D at 0x8705d30>,\n",
       " <matplotlib.lines.Line2D at 0x8705e10>,\n",
       " <matplotlib.lines.Line2D at 0x8705ef0>,\n",
       " <matplotlib.lines.Line2D at 0x8705fd0>,\n",
       " <matplotlib.lines.Line2D at 0x87120f0>,\n",
       " <matplotlib.lines.Line2D at 0x87121d0>,\n",
       " <matplotlib.lines.Line2D at 0x87122b0>,\n",
       " <matplotlib.lines.Line2D at 0x8712390>,\n",
       " <matplotlib.lines.Line2D at 0x8712470>,\n",
       " <matplotlib.lines.Line2D at 0x8712550>,\n",
       " <matplotlib.lines.Line2D at 0x8712630>,\n",
       " <matplotlib.lines.Line2D at 0x8712710>,\n",
       " <matplotlib.lines.Line2D at 0x87127f0>,\n",
       " <matplotlib.lines.Line2D at 0x87128d0>,\n",
       " <matplotlib.lines.Line2D at 0x87129b0>,\n",
       " <matplotlib.lines.Line2D at 0x8712a90>,\n",
       " <matplotlib.lines.Line2D at 0x8712b70>,\n",
       " <matplotlib.lines.Line2D at 0x8712c50>,\n",
       " <matplotlib.lines.Line2D at 0x8712d30>,\n",
       " <matplotlib.lines.Line2D at 0x8712e10>,\n",
       " <matplotlib.lines.Line2D at 0x8712ef0>,\n",
       " <matplotlib.lines.Line2D at 0x8712fd0>,\n",
       " <matplotlib.lines.Line2D at 0x871e0f0>,\n",
       " <matplotlib.lines.Line2D at 0x871e1d0>,\n",
       " <matplotlib.lines.Line2D at 0x871e2b0>,\n",
       " <matplotlib.lines.Line2D at 0x871e390>,\n",
       " <matplotlib.lines.Line2D at 0x871e470>,\n",
       " <matplotlib.lines.Line2D at 0x871e550>,\n",
       " <matplotlib.lines.Line2D at 0x871e630>,\n",
       " <matplotlib.lines.Line2D at 0x871e710>,\n",
       " <matplotlib.lines.Line2D at 0x871e7f0>,\n",
       " <matplotlib.lines.Line2D at 0x871e8d0>,\n",
       " <matplotlib.lines.Line2D at 0x871e9b0>,\n",
       " <matplotlib.lines.Line2D at 0x871ea90>,\n",
       " <matplotlib.lines.Line2D at 0x871eb70>,\n",
       " <matplotlib.lines.Line2D at 0x871ec50>,\n",
       " <matplotlib.lines.Line2D at 0x871ed30>,\n",
       " <matplotlib.lines.Line2D at 0x871ee10>,\n",
       " <matplotlib.lines.Line2D at 0x871eef0>,\n",
       " <matplotlib.lines.Line2D at 0x871efd0>,\n",
       " <matplotlib.lines.Line2D at 0x872b0f0>,\n",
       " <matplotlib.lines.Line2D at 0x872b1d0>,\n",
       " <matplotlib.lines.Line2D at 0x872b2b0>,\n",
       " <matplotlib.lines.Line2D at 0x872b390>,\n",
       " <matplotlib.lines.Line2D at 0x872b470>,\n",
       " <matplotlib.lines.Line2D at 0x872b550>,\n",
       " <matplotlib.lines.Line2D at 0x872b630>,\n",
       " <matplotlib.lines.Line2D at 0x872b710>,\n",
       " <matplotlib.lines.Line2D at 0x872b7f0>,\n",
       " <matplotlib.lines.Line2D at 0x872b8d0>,\n",
       " <matplotlib.lines.Line2D at 0x872b9b0>,\n",
       " <matplotlib.lines.Line2D at 0x872ba90>,\n",
       " <matplotlib.lines.Line2D at 0x872bb70>,\n",
       " <matplotlib.lines.Line2D at 0x872bc50>,\n",
       " <matplotlib.lines.Line2D at 0x872bd30>,\n",
       " <matplotlib.lines.Line2D at 0x872be10>,\n",
       " <matplotlib.lines.Line2D at 0x872bef0>,\n",
       " <matplotlib.lines.Line2D at 0x872bfd0>,\n",
       " <matplotlib.lines.Line2D at 0x87370f0>,\n",
       " <matplotlib.lines.Line2D at 0x87371d0>,\n",
       " <matplotlib.lines.Line2D at 0x87372b0>,\n",
       " <matplotlib.lines.Line2D at 0x8737390>,\n",
       " <matplotlib.lines.Line2D at 0x8737470>,\n",
       " <matplotlib.lines.Line2D at 0x8737550>,\n",
       " <matplotlib.lines.Line2D at 0x8737630>,\n",
       " <matplotlib.lines.Line2D at 0x8737710>,\n",
       " <matplotlib.lines.Line2D at 0x87377f0>,\n",
       " <matplotlib.lines.Line2D at 0x87378d0>,\n",
       " <matplotlib.lines.Line2D at 0x87379b0>,\n",
       " <matplotlib.lines.Line2D at 0x8737a90>,\n",
       " <matplotlib.lines.Line2D at 0x8737b70>,\n",
       " <matplotlib.lines.Line2D at 0x8737c50>,\n",
       " <matplotlib.lines.Line2D at 0x8737d30>,\n",
       " <matplotlib.lines.Line2D at 0x8737e10>,\n",
       " <matplotlib.lines.Line2D at 0x8737ef0>,\n",
       " <matplotlib.lines.Line2D at 0x8737fd0>,\n",
       " <matplotlib.lines.Line2D at 0x87860f0>,\n",
       " <matplotlib.lines.Line2D at 0x87861d0>,\n",
       " <matplotlib.lines.Line2D at 0x87862b0>,\n",
       " <matplotlib.lines.Line2D at 0x8786390>,\n",
       " <matplotlib.lines.Line2D at 0x8786470>,\n",
       " <matplotlib.lines.Line2D at 0x8786550>,\n",
       " <matplotlib.lines.Line2D at 0x8786630>,\n",
       " <matplotlib.lines.Line2D at 0x8786710>,\n",
       " <matplotlib.lines.Line2D at 0x87867f0>,\n",
       " <matplotlib.lines.Line2D at 0x87868d0>,\n",
       " <matplotlib.lines.Line2D at 0x87869b0>,\n",
       " <matplotlib.lines.Line2D at 0x8786a90>,\n",
       " <matplotlib.lines.Line2D at 0x8786b70>,\n",
       " <matplotlib.lines.Line2D at 0x8786c50>,\n",
       " <matplotlib.lines.Line2D at 0x8786d30>,\n",
       " <matplotlib.lines.Line2D at 0x8786e10>,\n",
       " <matplotlib.lines.Line2D at 0x8786ef0>,\n",
       " <matplotlib.lines.Line2D at 0x8786fd0>,\n",
       " <matplotlib.lines.Line2D at 0x87930f0>,\n",
       " <matplotlib.lines.Line2D at 0x87931d0>,\n",
       " <matplotlib.lines.Line2D at 0x87932b0>,\n",
       " <matplotlib.lines.Line2D at 0x8793390>,\n",
       " <matplotlib.lines.Line2D at 0x8793470>,\n",
       " <matplotlib.lines.Line2D at 0x8793550>,\n",
       " <matplotlib.lines.Line2D at 0x8793630>,\n",
       " <matplotlib.lines.Line2D at 0x8793710>,\n",
       " <matplotlib.lines.Line2D at 0x87937f0>,\n",
       " <matplotlib.lines.Line2D at 0x87938d0>,\n",
       " <matplotlib.lines.Line2D at 0x87939b0>,\n",
       " <matplotlib.lines.Line2D at 0x8793a90>,\n",
       " <matplotlib.lines.Line2D at 0x8793b70>]"
      ]
     },
     "execution_count": 16,
     "metadata": {},
     "output_type": "execute_result"
    },
    {
     "data": {
      "image/png": "[encoded data removed]",
      "text/plain": [
       "<matplotlib.figure.Figure at 0x4578f28>"
      ]
     },
     "metadata": {},
     "output_type": "display_data"
    }
   ],
   "source": [
    "pl.ion()\n",
    "pl.plot(pima[indices0,0],pima[indices0,1],'go')\n",
    "pl.plot(pima[indices1,0],pima[indices1,1],'rx')\n",
    "#pl.show()"
   ]
  },
  {
   "cell_type": "code",
   "execution_count": 17,
   "metadata": {
    "collapsed": false
   },
   "outputs": [
    {
     "name": "stdout",
     "output_type": "stream",
     "text": [
      "[[ 198.   47.]\n",
      " [ 302.  221.]]\n",
      "0.545572916667\n"
     ]
    }
   ],
   "source": [
    "p = pcn_logic_eq.pcn(pima[:,:8],pima[:,8:9])\n",
    "p.pcntrain(pima[:,:8],pima[:,8:9],0.25,100)\n",
    "p.confmat(pima[:,:8],pima[:,8:9])"
   ]
  },
  {
   "cell_type": "markdown",
   "metadata": {},
   "source": [
    "The accuracy is only 54.55%! Only slightly better than random guessing."
   ]
  },
  {
   "cell_type": "code",
   "execution_count": 18,
   "metadata": {
    "collapsed": true
   },
   "outputs": [],
   "source": [
    "trainin = pima[::2,:8]\n",
    "testin = pima[1::2,:8]\n",
    "traintgt = pima[::2,8:9]\n",
    "testtgt = pima[1::2,8:9]"
   ]
  },
  {
   "cell_type": "code",
   "execution_count": null,
   "metadata": {
    "collapsed": true
   },
   "outputs": [],
   "source": []
  }
 ],
 "metadata": {
  "kernelspec": {
   "display_name": "Python 2",
   "language": "python",
   "name": "python2"
  },
  "language_info": {
   "codemirror_mode": {
    "name": "ipython",
    "version": 2
   },
   "file_extension": ".py",
   "mimetype": "text/x-python",
   "name": "python",
   "nbconvert_exporter": "python",
   "pygments_lexer": "ipython2",
   "version": "2.7.11"
  }
 },
 "nbformat": 4,
 "nbformat_minor": 0
}
