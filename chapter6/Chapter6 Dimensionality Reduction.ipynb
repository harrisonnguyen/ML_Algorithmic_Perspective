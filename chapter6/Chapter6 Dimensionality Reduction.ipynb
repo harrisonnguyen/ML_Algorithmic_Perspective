{
 "cells": [
  {
   "cell_type": "code",
   "execution_count": 1,
   "metadata": {
    "collapsed": true
   },
   "outputs": [],
   "source": [
    "import numpy as np"
   ]
  },
  {
   "cell_type": "markdown",
   "metadata": {},
   "source": [
    "## Preprocess the iris data set"
   ]
  },
  {
   "cell_type": "code",
   "execution_count": 2,
   "metadata": {
    "collapsed": false
   },
   "outputs": [],
   "source": [
    "def preprocessIris(infile,outfile):\n",
    "    stext1 = 'Iris-setosa'\n",
    "    stext2 = 'Iris-versicolor'\n",
    "    stext3 = 'Iris-virginica'\n",
    "    rtext1 = '0'\n",
    "    rtext2 = '1'\n",
    "    rtext3 = '2'\n",
    "    fid = open(infile,\"r\")\n",
    "    oid = open(outfile,\"w\")\n",
    "    for s in fid:\n",
    "        if s.find(stext1)>-1:\n",
    "            oid.write(s.replace(stext1, rtext1))\n",
    "        elif s.find(stext2)>-1:\n",
    "            oid.write(s.replace(stext2, rtext2))\n",
    "        elif s.find(stext3)>-1:\n",
    "            oid.write(s.replace(stext3, rtext3))\n",
    "    fid.close()\n",
    "    oid.close()"
   ]
  },
  {
   "cell_type": "code",
   "execution_count": 3,
   "metadata": {
    "collapsed": true
   },
   "outputs": [],
   "source": [
    "preprocessIris('iris.data','iris_proc.data')"
   ]
  },
  {
   "cell_type": "code",
   "execution_count": 4,
   "metadata": {
    "collapsed": true
   },
   "outputs": [],
   "source": [
    "iris = np.loadtxt('iris_proc.data',delimiter=',')"
   ]
  },
  {
   "cell_type": "code",
   "execution_count": 5,
   "metadata": {
    "collapsed": false
   },
   "outputs": [],
   "source": [
    "iris[:,:4] = iris[:,:4]-iris[:,:4].mean(axis=0)\n",
    "imax = np.concatenate((iris.max(axis=0)*np.ones((1,5)),\n",
    "                       iris.min(axis=0)*np.ones((1,5))),axis=0).max(axis=0)\n",
    "iris[:,:4] = iris[:,:4]/imax[:4]"
   ]
  },
  {
   "cell_type": "markdown",
   "metadata": {},
   "source": [
    "# Perform linear descriminant analysis"
   ]
  },
  {
   "cell_type": "code",
   "execution_count": 6,
   "metadata": {
    "collapsed": true
   },
   "outputs": [],
   "source": [
    "import ld_analysis as lda"
   ]
  },
  {
   "cell_type": "code",
   "execution_count": 7,
   "metadata": {
    "collapsed": true
   },
   "outputs": [],
   "source": [
    "data = iris[:,:4]\n",
    "labels = iris[:,4]\n",
    "classes = np.unique(labels)"
   ]
  },
  {
   "cell_type": "code",
   "execution_count": 8,
   "metadata": {
    "collapsed": false
   },
   "outputs": [],
   "source": [
    "newData = lda.ld_analysis(data,labels,2)"
   ]
  },
  {
   "cell_type": "code",
   "execution_count": 9,
   "metadata": {
    "collapsed": false
   },
   "outputs": [],
   "source": [
    "import pylab as pl\n",
    "%matplotlib inline"
   ]
  },
  {
   "cell_type": "code",
   "execution_count": 10,
   "metadata": {
    "collapsed": true
   },
   "outputs": [],
   "source": [
    "#get the indces of data with label i\n",
    "indices0 = np.squeeze(np.where(labels == classes[0])) \n",
    "indices1 = np.squeeze(np.where(labels == classes[1]))\n",
    "indices2 = np.squeeze(np.where(labels == classes[2]))"
   ]
  },
  {
   "cell_type": "code",
   "execution_count": 11,
   "metadata": {
    "collapsed": false
   },
   "outputs": [
    {
     "data": {
      "text/plain": [
       "[<matplotlib.lines.Line2D at 0x7de2830>]"
      ]
     },
     "execution_count": 11,
     "metadata": {},
     "output_type": "execute_result"
    },
    {
     "data": {
      "image/png": "[encoded data removed]",
      "text/plain": [
       "<matplotlib.figure.Figure at 0x7cfde90>"
      ]
     },
     "metadata": {},
     "output_type": "display_data"
    }
   ],
   "source": [
    "pl.plot(newData[indices0,0],newData[indices0,1],'go')\n",
    "pl.plot(newData[indices1,0],newData[indices1,1],'rx')\n",
    "pl.plot(newData[indices2,0],newData[indices2,1],'bv')"
   ]
  },
  {
   "cell_type": "code",
   "execution_count": 12,
   "metadata": {
    "collapsed": false
   },
   "outputs": [
    {
     "data": {
      "text/plain": [
       "[<matplotlib.lines.Line2D at 0x7f58c70>]"
      ]
     },
     "execution_count": 12,
     "metadata": {},
     "output_type": "execute_result"
    },
    {
     "data": {
      "image/png": "[encoded data removed]",
      "text/plain": [
       "<matplotlib.figure.Figure at 0x7d8ef90>"
      ]
     },
     "metadata": {},
     "output_type": "display_data"
    }
   ],
   "source": [
    "pl.plot(data[indices0,0],data[indices0,1],'go')\n",
    "pl.plot(data[indices1,0],data[indices1,1],'rx')\n",
    "pl.plot(data[indices2,0],data[indices2,1],'bv')"
   ]
  },
  {
   "cell_type": "markdown",
   "metadata": {},
   "source": [
    "# Do PCA"
   ]
  },
  {
   "cell_type": "code",
   "execution_count": 13,
   "metadata": {
    "collapsed": false
   },
   "outputs": [],
   "source": [
    "import pca"
   ]
  },
  {
   "cell_type": "code",
   "execution_count": 14,
   "metadata": {
    "collapsed": true
   },
   "outputs": [],
   "source": [
    "x,y,evecs,evals = pca.pca(data,2)"
   ]
  },
  {
   "cell_type": "code",
   "execution_count": 15,
   "metadata": {
    "collapsed": false
   },
   "outputs": [
    {
     "data": {
      "text/plain": [
       "[<matplotlib.lines.Line2D at 0xe193df0>]"
      ]
     },
     "execution_count": 15,
     "metadata": {},
     "output_type": "execute_result"
    },
    {
     "data": {
      "image/png": "[encoded data removed]",
      "text/plain": [
       "<matplotlib.figure.Figure at 0x7f32c10>"
      ]
     },
     "metadata": {},
     "output_type": "display_data"
    }
   ],
   "source": [
    "pl.plot(y[indices0,0],y[indices0,1],'go')\n",
    "pl.plot(y[indices1,0],y[indices1,1],'rx')\n",
    "pl.plot(y[indices2,0],y[indices2,1],'bv')"
   ]
  },
  {
   "cell_type": "code",
   "execution_count": 16,
   "metadata": {
    "collapsed": false
   },
   "outputs": [
    {
     "data": {
      "text/plain": [
       "array([[ -3.87319672e-01,   3.43691230e-01,  -7.43994977e-01,\n",
       "         -7.55276009e-01],\n",
       "       [ -5.38859892e-01,  -7.73947435e-04,  -7.12506012e-01,\n",
       "         -7.46161788e-01],\n",
       "       [ -5.31200824e-01,   9.80349660e-02,  -7.68922639e-01,\n",
       "         -7.98394939e-01],\n",
       "       [ -5.56754979e-01,   1.05992936e-02,  -7.43845324e-01,\n",
       "         -7.78191298e-01],\n",
       "       [ -3.79854242e-01,   3.90794631e-01,  -7.65842380e-01,\n",
       "         -7.74891075e-01],\n",
       "       [ -1.81258983e-01,   6.12959897e-01,  -6.52694212e-01,\n",
       "         -6.41018244e-01],\n",
       "       [ -4.72596758e-01,   1.96060294e-01,  -7.57400328e-01,\n",
       "         -7.79539392e-01],\n",
       "       [ -4.20145617e-01,   2.60857669e-01,  -7.31639482e-01,\n",
       "         -7.48075385e-01],\n",
       "       [ -6.44222242e-01,  -1.41261496e-01,  -7.57299796e-01,\n",
       "         -8.02799104e-01],\n",
       "       [ -5.27891782e-01,   6.44347549e-02,  -7.41913163e-01,\n",
       "         -7.72439039e-01],\n",
       "       [ -2.83536255e-01,   5.11116044e-01,  -7.19433640e-01,\n",
       "         -7.17959473e-01],\n",
       "       [ -4.45506134e-01,   2.25127509e-01,  -7.41131391e-01,\n",
       "         -7.60489828e-01],\n",
       "       [ -5.75261309e-01,  -9.19458415e-03,  -7.55001309e-01,\n",
       "         -7.91244451e-01],\n",
       "       [ -6.78657447e-01,  -7.32083734e-02,  -8.48701093e-01,\n",
       "         -8.93797156e-01],\n",
       "       [ -1.68742265e-01,   7.75180752e-01,  -7.45393260e-01,\n",
       "         -7.26852613e-01],\n",
       "       [ -2.79461899e-02,   9.82193322e-01,  -6.98519953e-01,\n",
       "         -6.63429770e-01],\n",
       "       [ -2.10346145e-01,   6.31368342e-01,  -7.03581494e-01,\n",
       "         -6.93030315e-01],\n",
       "       [ -3.67234409e-01,   3.36547842e-01,  -7.12606544e-01,\n",
       "         -7.22902076e-01],\n",
       "       [ -1.76177369e-01,   6.04127933e-01,  -6.40021512e-01,\n",
       "         -6.28359650e-01],\n",
       "       [ -2.88617870e-01,   5.19948008e-01,  -7.32106340e-01,\n",
       "         -7.30618067e-01],\n",
       "       [ -3.40337423e-01,   3.13909545e-01,  -6.61768383e-01,\n",
       "         -6.71234428e-01],\n",
       "       [ -2.92314190e-01,   4.50137195e-01,  -6.89977369e-01,\n",
       "         -6.91337798e-01],\n",
       "       [ -4.74206018e-01,   3.46946978e-01,  -8.61157119e-01,\n",
       "         -8.77738068e-01],\n",
       "       [ -3.52811677e-01,   1.83119882e-01,  -5.90183141e-01,\n",
       "         -6.05332485e-01],\n",
       "       [ -4.23690762e-01,   2.11321175e-01,  -7.02965929e-01,\n",
       "         -7.21480775e-01],\n",
       "       [ -5.08000158e-01,   5.58585486e-03,  -6.75955507e-01,\n",
       "         -7.07447022e-01],\n",
       "       [ -3.72703301e-01,   2.41968782e-01,  -6.56140797e-01,\n",
       "         -6.70324502e-01],\n",
       "       [ -3.63731728e-01,   3.54653143e-01,  -7.20166292e-01,\n",
       "         -7.29564261e-01],\n",
       "       [ -3.94785101e-01,   2.96587829e-01,  -7.22147574e-01,\n",
       "         -7.35660942e-01],\n",
       "       [ -5.09385452e-01,   8.42286326e-02,  -7.30757178e-01,\n",
       "         -7.59385886e-01],\n",
       "       [ -5.16850882e-01,   3.71252315e-02,  -7.08909774e-01,\n",
       "         -7.39770819e-01],\n",
       "       [ -3.14710478e-01,   3.08826991e-01,  -6.24435160e-01,\n",
       "         -6.32492598e-01],\n",
       "       [ -2.41127494e-01,   7.37801085e-01,  -8.15997956e-01,\n",
       "         -8.03376211e-01],\n",
       "       [ -1.55583979e-01,   8.44619308e-01,  -7.74751290e-01,\n",
       "         -7.52785441e-01],\n",
       "       [ -5.27891782e-01,   6.44347549e-02,  -7.41913163e-01,\n",
       "         -7.72439039e-01],\n",
       "       [ -4.89524154e-01,   1.49329151e-01,  -7.48323866e-01,\n",
       "         -7.73271766e-01],\n",
       "       [ -3.29326849e-01,   4.10549439e-01,  -7.12289339e-01,\n",
       "         -7.17444105e-01],\n",
       "       [ -5.27891782e-01,   6.44347549e-02,  -7.41913163e-01,\n",
       "         -7.72439039e-01],\n",
       "       [ -6.27712450e-01,  -7.39919589e-02,  -7.80762155e-01,\n",
       "         -8.22708458e-01],\n",
       "       [ -4.03829464e-01,   2.76421693e-01,  -7.20532618e-01,\n",
       "         -7.35366655e-01],\n",
       "       [ -3.90822353e-01,   3.25585929e-01,  -7.36435229e-01,\n",
       "         -7.48613824e-01],\n",
       "       [ -7.57782113e-01,  -5.04243302e-01,  -6.63083088e-01,\n",
       "         -7.29281441e-01],\n",
       "       [ -5.80149284e-01,   5.13428924e-02,  -8.02243232e-01,\n",
       "         -8.36521130e-01],\n",
       "       [ -3.08751192e-01,   2.90349432e-01,  -6.04104471e-01,\n",
       "         -6.12482973e-01],\n",
       "       [ -2.39445445e-01,   4.94396176e-01,  -6.49830626e-01,\n",
       "         -6.46232064e-01],\n",
       "       [ -5.35090783e-01,  -2.34813598e-02,  -6.92224444e-01,\n",
       "         -7.26496586e-01],\n",
       "       [ -3.01431342e-01,   5.22489285e-01,  -7.50772952e-01,\n",
       "         -7.49988982e-01],\n",
       "       [ -5.40245187e-01,   7.78688304e-02,  -7.67307683e-01,\n",
       "         -7.98100652e-01],\n",
       "       [ -2.99852409e-01,   4.95552019e-01,  -7.30540505e-01,\n",
       "         -7.30668203e-01],\n",
       "       [ -4.51198991e-01,   2.02792354e-01,  -7.33620764e-01,\n",
       "         -7.54172067e-01],\n",
       "       [  3.32334735e-01,   2.13815098e-01,   2.95738326e-01,\n",
       "          3.24495655e-01],\n",
       "       [  2.39979497e-01,   1.22491786e-01,   2.35041930e-01,\n",
       "          2.54611170e-01],\n",
       "       [  3.26865843e-01,   1.19236038e-01,   3.52204073e-01,\n",
       "          3.77073229e-01],\n",
       "       [ -1.97429607e-01,  -5.44293935e-01,   1.05359032e-01,\n",
       "          7.26266694e-02],\n",
       "       [  1.68441110e-01,  -1.17216004e-01,   3.01832770e-01,\n",
       "          3.07948264e-01],\n",
       "       [ -9.53043351e-03,  -2.22839313e-01,   1.37479169e-01,\n",
       "          1.28527538e-01],\n",
       "       [  2.82073770e-01,   1.53247577e-01,   2.70026600e-01,\n",
       "          2.93376072e-01],\n",
       "       [ -3.82703266e-01,  -5.21365715e-01,  -1.55240734e-01,\n",
       "         -1.98674971e-01],\n",
       "       [  1.68368320e-01,  -2.46977778e-02,   2.39422231e-01,\n",
       "          2.49002792e-01],\n",
       "       [ -1.38438263e-01,  -3.42857583e-01,   4.77428955e-02,\n",
       "          2.62460479e-02],\n",
       "       [ -4.46969863e-01,  -7.65675616e-01,  -7.57280736e-02,\n",
       "         -1.32334860e-01],\n",
       "       [  8.90201932e-02,  -6.68568550e-02,   1.62823224e-01,\n",
       "          1.65871138e-01],\n",
       "       [ -1.99886211e-01,  -5.07711075e-01,   7.74685958e-02,\n",
       "          4.59548598e-02],\n",
       "       [  1.14144607e-01,  -1.14263399e-01,   2.27998162e-01,\n",
       "          2.30836091e-01],\n",
       "       [ -6.75111185e-02,  -1.34316912e-01,   1.13538234e-03,\n",
       "         -8.11468917e-03],\n",
       "       [  2.37789321e-01,   1.18261932e-01,   2.34992810e-01,\n",
       "          2.54266747e-01],\n",
       "       [  6.18871045e-02,  -1.27355262e-01,   1.67668092e-01,\n",
       "          1.66754000e-01],\n",
       "       [ -1.06338814e-01,  -2.30104106e-01,   1.42739940e-02,\n",
       "         -9.91264708e-04],\n",
       "       [ -3.04686375e-02,  -5.35310520e-01,   3.20233588e-01,\n",
       "          2.98257072e-01],\n",
       "       [ -1.80992604e-01,  -3.84506172e-01,   1.94861338e-02,\n",
       "         -6.22815580e-03],\n",
       "       [  2.40469890e-01,   9.43516628e-03,   3.11838366e-01,\n",
       "          3.27198369e-01],\n",
       "       [  1.93752275e-02,  -1.37572659e-01,   1.18297525e-01,\n",
       "          1.14347370e-01],\n",
       "       [  8.62794262e-02,  -3.50152663e-01,   3.50006118e-01,\n",
       "          3.42258865e-01],\n",
       "       [  5.01924981e-02,  -1.62644049e-01,   1.75961836e-01,\n",
       "          1.72994562e-01],\n",
       "       [  1.13920642e-01,  -4.20194935e-02,   1.79043041e-01,\n",
       "          1.84576278e-01],\n",
       "       [  1.97691585e-01,   4.00304823e-02,   2.34626484e-01,\n",
       "          2.48464353e-01],\n",
       "       [  2.11847888e-01,  -7.25847645e-02,   3.29208572e-01,\n",
       "          3.39706558e-01],\n",
       "       [  3.17894270e-01,   6.55167668e-03,   4.16229568e-01,\n",
       "          4.36312988e-01],\n",
       "       [  1.03370135e-01,  -1.27766589e-01,   2.22836089e-01,\n",
       "          2.24495258e-01],\n",
       "       [ -1.90067293e-01,  -2.80722890e-01,  -6.24232545e-02,\n",
       "         -8.48117655e-02],\n",
       "       [ -2.28362131e-01,  -4.58135511e-01,   6.39798758e-03,\n",
       "         -2.50335677e-02],\n",
       "       [ -2.55719184e-01,  -4.46390013e-01,  -3.77122651e-02,\n",
       "         -7.04105180e-02],\n",
       "       [ -8.07118688e-02,  -2.35186660e-01,   5.16072176e-02,\n",
       "          3.77505649e-02],\n",
       "       [  1.19522976e-01,  -2.87857495e-01,   3.52036521e-01,\n",
       "          3.48699970e-01],\n",
       "       [  2.92547978e-02,  -1.58483311e-01,   1.45454363e-01,\n",
       "          1.41336539e-01],\n",
       "       [  2.42363312e-01,   1.78427151e-01,   2.00521828e-01,\n",
       "          2.22337509e-01],\n",
       "       [  2.79689955e-01,   9.73122113e-02,   3.04546703e-01,\n",
       "          3.25649733e-01],\n",
       "       [ -3.78132177e-02,  -4.38190183e-01,   2.45101229e-01,\n",
       "          2.26308584e-01],\n",
       "       [ -7.37058328e-03,  -9.46600418e-02,   5.40039459e-02,\n",
       "          4.99940634e-02],\n",
       "       [ -1.49866441e-01,  -4.18959084e-01,   8.38779544e-02,\n",
       "          5.88139968e-02],\n",
       "       [ -1.17082959e-01,  -3.67556715e-01,   9.26362652e-02,\n",
       "          7.15457990e-02],\n",
       "       [  1.30654399e-01,  -4.69938626e-02,   2.04535803e-01,\n",
       "          2.10926737e-01],\n",
       "       [ -9.72216611e-02,  -3.02456197e-01,   7.50695767e-02,\n",
       "          5.76599190e-02],\n",
       "       [ -3.90168696e-01,  -5.68469116e-01,  -1.33393330e-01,\n",
       "         -1.79059905e-01],\n",
       "       [ -7.14435412e-02,  -2.87264430e-01,   9.89473823e-02,\n",
       "          8.37160901e-02],\n",
       "       [ -3.86790232e-03,  -7.65547406e-02,   4.64441985e-02,\n",
       "          4.33318790e-02],\n",
       "       [ -7.56422220e-03,  -1.46365554e-01,   8.85731695e-02,\n",
       "          8.26121479e-02],\n",
       "       [  8.12883352e-02,  -7.31475426e-02,   1.56829312e-01,\n",
       "          1.59158818e-01],\n",
       "       [ -3.28019485e-01,  -4.20907295e-01,  -1.50544572e-01,\n",
       "         -1.86798968e-01],\n",
       "       [ -3.86175955e-02,  -2.04430869e-01,   8.65918877e-02,\n",
       "          7.65154664e-02],\n",
       "       [  5.57374413e-01,   2.91296420e-02,   7.17906157e-01,\n",
       "          7.53780696e-01],\n",
       "       [  1.47146458e-01,  -3.40415708e-01,   4.23988089e-01,\n",
       "          4.20404307e-01],\n",
       "       [  5.28946050e-01,  -1.18477650e-03,   7.00707139e-01,\n",
       "          7.33670800e-01],\n",
       "       [  2.92564080e-01,  -1.53127902e-01,   4.90262004e-01,\n",
       "          5.02776442e-01],\n",
       "       [  4.43862602e-01,  -9.71102003e-02,   6.52732564e-01,\n",
       "          6.76789333e-01],\n",
       "       [  6.61429350e-01,   4.44205683e-02,   8.45294204e-01,\n",
       "          8.88235576e-01],\n",
       "       [ -1.31063357e-01,  -5.63927338e-01,   2.06399599e-01,\n",
       "          1.77072434e-01],\n",
       "       [  5.06628147e-01,  -2.97024342e-02,   6.90383391e-01,\n",
       "          7.20884870e-01],\n",
       "       [  2.77245943e-01,  -3.50745728e-01,   6.03095257e-01,\n",
       "          6.07242744e-01],\n",
       "       [  7.82836332e-01,   3.52606029e-01,   7.98368141e-01,\n",
       "          8.60443279e-01],\n",
       "       [  4.00352708e-01,   7.47262045e-02,   4.79421879e-01,\n",
       "          5.07207670e-01],\n",
       "       [  2.59586959e-01,  -2.56235783e-01,   5.16072916e-01,\n",
       "          5.22662724e-01],\n",
       "       [  4.50910427e-01,  -2.94684056e-02,   6.16499264e-01,\n",
       "          6.43532538e-01],\n",
       "       [  9.60806110e-02,  -4.83855860e-01,   4.53028914e-01,\n",
       "          4.40879164e-01],\n",
       "       [  2.71354355e-01,  -3.13465221e-01,   5.70189712e-01,\n",
       "          5.75367633e-01],\n",
       "       [  4.58835924e-01,   2.85277943e-02,   5.87923952e-01,\n",
       "          6.17626773e-01],\n",
       "       [  3.41706179e-01,  -5.47303158e-02,   4.89013374e-01,\n",
       "          5.08284549e-01],\n",
       "       [  8.95355219e-01,   5.49578499e-01,   8.14587012e-01,\n",
       "          8.91070567e-01],\n",
       "       [  6.44605069e-01,  -2.18778219e-01,   1.00030555e+00,\n",
       "          1.03232657e+00],\n",
       "       [ -2.67419918e-02,  -5.89449125e-01,   3.61628962e-01,\n",
       "          3.37854701e-01],\n",
       "       [  5.69503853e-01,   8.79394724e-02,   6.94345556e-01,\n",
       "          7.33182496e-01],\n",
       "       [  1.43837415e-01,  -3.06815497e-01,   3.96978613e-01,\n",
       "          3.94448407e-01],\n",
       "       [  6.17368865e-01,  -6.28089818e-02,   8.59215534e-01,\n",
       "          8.95386065e-01],\n",
       "       [  1.94098381e-01,  -2.46247975e-01,   4.22690338e-01,\n",
       "          4.25567990e-01],\n",
       "       [  5.20482603e-01,   1.33765625e-01,   5.98614424e-01,\n",
       "          6.36110834e-01],\n",
       "       [  5.39841370e-01,   1.56542152e-01,   6.08889450e-01,\n",
       "          6.48448078e-01],\n",
       "       [  1.94292019e-01,  -1.94542463e-01,   3.88121114e-01,\n",
       "          3.92949906e-01],\n",
       "       [  2.32810822e-01,  -8.93737472e-02,   3.68254993e-01,\n",
       "          3.79431521e-01],\n",
       "       [  3.45354439e-01,  -2.21661466e-01,   6.06274704e-01,\n",
       "          6.19513307e-01],\n",
       "       [  4.37564098e-01,   5.46982982e-02,   5.42150021e-01,\n",
       "          5.71506850e-01],\n",
       "       [  5.04704399e-01,  -7.47450009e-02,   7.18175586e-01,\n",
       "          7.46867834e-01],\n",
       "       [  8.66001628e-01,   6.08799657e-01,   7.35858415e-01,\n",
       "          8.12731109e-01],\n",
       "       [  3.65439702e-01,  -2.28804854e-01,   6.37663136e-01,\n",
       "          6.51887239e-01],\n",
       "       [  1.72167756e-01,  -1.71354608e-01,   3.43228143e-01,\n",
       "          3.47545892e-01],\n",
       "       [  1.08245973e-01,  -3.43684676e-01,   3.74716162e-01,\n",
       "          3.68582260e-01],\n",
       "       [  6.81557077e-01,   6.87083728e-02,   8.55568831e-01,\n",
       "          9.00677083e-01],\n",
       "       [  5.31983571e-01,   1.17348900e-01,   6.24889904e-01,\n",
       "          6.62488356e-01],\n",
       "       [  3.49171608e-01,  -7.62691459e-03,   4.67165970e-01,\n",
       "          4.88669482e-01],\n",
       "       [  2.09222878e-01,  -1.00335661e-01,   3.44426308e-01,\n",
       "          3.53719772e-01],\n",
       "       [  4.83736373e-01,   5.33651557e-02,   6.04143769e-01,\n",
       "          6.36331914e-01],\n",
       "       [  5.25903436e-01,  -8.39727900e-03,   7.01538978e-01,\n",
       "          7.34042287e-01],\n",
       "       [  5.02091527e-01,   5.28847134e-02,   6.28755172e-01,\n",
       "          6.62070726e-01],\n",
       "       [  1.47146458e-01,  -3.40415708e-01,   4.23988089e-01,\n",
       "          4.20404307e-01],\n",
       "       [  5.67731281e-01,   6.31712257e-02,   7.08682333e-01,\n",
       "          7.46479802e-01],\n",
       "       [  6.00823655e-01,   1.05192073e-01,   7.24168153e-01,\n",
       "          7.65606564e-01],\n",
       "       [  4.52949428e-01,  -4.55128724e-02,   6.30003802e-01,\n",
       "          6.56562619e-01],\n",
       "       [  1.73892268e-01,  -3.83328325e-01,   4.88281668e-01,\n",
       "          4.84757613e-01],\n",
       "       [  3.60061333e-01,  -5.52107580e-02,   5.13624777e-01,\n",
       "          5.34023361e-01],\n",
       "       [  4.81038574e-01,   1.18132485e-01,   5.56950966e-01,\n",
       "          5.91399658e-01],\n",
       "       [  2.14722096e-01,  -1.29706018e-01,   3.71484905e-01,\n",
       "          3.80020095e-01]])"
      ]
     },
     "execution_count": 16,
     "metadata": {},
     "output_type": "execute_result"
    }
   ],
   "source": [
    "y"
   ]
  },
  {
   "cell_type": "code",
   "execution_count": null,
   "metadata": {
    "collapsed": true
   },
   "outputs": [],
   "source": []
  }
 ],
 "metadata": {
  "kernelspec": {
   "display_name": "Python 2",
   "language": "python",
   "name": "python2"
  },
  "language_info": {
   "codemirror_mode": {
    "name": "ipython",
    "version": 2
   },
   "file_extension": ".py",
   "mimetype": "text/x-python",
   "name": "python",
   "nbconvert_exporter": "python",
   "pygments_lexer": "ipython2",
   "version": "2.7.11"
  }
 },
 "nbformat": 4,
 "nbformat_minor": 0
}
